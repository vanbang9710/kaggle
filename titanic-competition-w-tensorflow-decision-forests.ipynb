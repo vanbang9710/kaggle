{
 "cells": [
  {
   "cell_type": "markdown",
   "id": "b628ffe9",
   "metadata": {
    "papermill": {
     "duration": 0.012741,
     "end_time": "2023-08-30T07:16:03.940652",
     "exception": false,
     "start_time": "2023-08-30T07:16:03.927911",
     "status": "completed"
    },
    "tags": []
   },
   "source": [
    "# Titanic competition with TensorFlow Decision Forests\n",
    "\n",
    "This notebook will take you through the steps needed to train a baseline Gradient Boosted Trees Model using TensorFlow Decision Forests and creating a submission on the Titanic competition. \n",
    "\n",
    "This notebook shows:\n",
    "\n",
    "1. How to do some basic pre-processing. For example, the passenger names will be tokenized, and ticket names will be splitted in parts.\n",
    "1. How to train a Gradient Boosted Trees (GBT) with default parameters\n",
    "1. How to train a GBT with improved default parameters\n",
    "1. How to tune the parameters of a GBTs\n",
    "1. How to train and ensemble many GBTs"
   ]
  },
  {
   "cell_type": "markdown",
   "id": "3cd9a7d3",
   "metadata": {
    "papermill": {
     "duration": 0.006842,
     "end_time": "2023-08-30T07:16:03.956582",
     "exception": false,
     "start_time": "2023-08-30T07:16:03.949740",
     "status": "completed"
    },
    "tags": []
   },
   "source": [
    "# Imports dependencies"
   ]
  },
  {
   "cell_type": "code",
   "execution_count": 1,
   "id": "e47a4b8e",
   "metadata": {
    "execution": {
     "iopub.execute_input": "2023-08-30T07:16:03.973295Z",
     "iopub.status.busy": "2023-08-30T07:16:03.972393Z",
     "iopub.status.idle": "2023-08-30T07:16:12.105978Z",
     "shell.execute_reply": "2023-08-30T07:16:12.104591Z"
    },
    "papermill": {
     "duration": 8.145399,
     "end_time": "2023-08-30T07:16:12.108901",
     "exception": false,
     "start_time": "2023-08-30T07:16:03.963502",
     "status": "completed"
    },
    "tags": []
   },
   "outputs": [
    {
     "name": "stdout",
     "output_type": "stream",
     "text": [
      "Found TF-DF 1.2.0\n"
     ]
    }
   ],
   "source": [
    "import numpy as np\n",
    "import pandas as pd\n",
    "import os\n",
    "\n",
    "import tensorflow as tf\n",
    "import tensorflow_decision_forests as tfdf\n",
    "\n",
    "print(f\"Found TF-DF {tfdf.__version__}\")"
   ]
  },
  {
   "cell_type": "markdown",
   "id": "a667eec9",
   "metadata": {
    "papermill": {
     "duration": 0.007443,
     "end_time": "2023-08-30T07:16:12.124385",
     "exception": false,
     "start_time": "2023-08-30T07:16:12.116942",
     "status": "completed"
    },
    "tags": []
   },
   "source": [
    "# Load dataset"
   ]
  },
  {
   "cell_type": "code",
   "execution_count": 2,
   "id": "1dfd5141",
   "metadata": {
    "execution": {
     "iopub.execute_input": "2023-08-30T07:16:12.142184Z",
     "iopub.status.busy": "2023-08-30T07:16:12.141161Z",
     "iopub.status.idle": "2023-08-30T07:16:12.201567Z",
     "shell.execute_reply": "2023-08-30T07:16:12.200227Z"
    },
    "papermill": {
     "duration": 0.072211,
     "end_time": "2023-08-30T07:16:12.203983",
     "exception": false,
     "start_time": "2023-08-30T07:16:12.131772",
     "status": "completed"
    },
    "tags": []
   },
   "outputs": [
    {
     "data": {
      "text/html": [
       "<div>\n",
       "<style scoped>\n",
       "    .dataframe tbody tr th:only-of-type {\n",
       "        vertical-align: middle;\n",
       "    }\n",
       "\n",
       "    .dataframe tbody tr th {\n",
       "        vertical-align: top;\n",
       "    }\n",
       "\n",
       "    .dataframe thead th {\n",
       "        text-align: right;\n",
       "    }\n",
       "</style>\n",
       "<table border=\"1\" class=\"dataframe\">\n",
       "  <thead>\n",
       "    <tr style=\"text-align: right;\">\n",
       "      <th></th>\n",
       "      <th>PassengerId</th>\n",
       "      <th>Survived</th>\n",
       "      <th>Pclass</th>\n",
       "      <th>Name</th>\n",
       "      <th>Sex</th>\n",
       "      <th>Age</th>\n",
       "      <th>SibSp</th>\n",
       "      <th>Parch</th>\n",
       "      <th>Ticket</th>\n",
       "      <th>Fare</th>\n",
       "      <th>Cabin</th>\n",
       "      <th>Embarked</th>\n",
       "    </tr>\n",
       "  </thead>\n",
       "  <tbody>\n",
       "    <tr>\n",
       "      <th>0</th>\n",
       "      <td>1</td>\n",
       "      <td>0</td>\n",
       "      <td>3</td>\n",
       "      <td>Braund, Mr. Owen Harris</td>\n",
       "      <td>male</td>\n",
       "      <td>22.0</td>\n",
       "      <td>1</td>\n",
       "      <td>0</td>\n",
       "      <td>A/5 21171</td>\n",
       "      <td>7.2500</td>\n",
       "      <td>NaN</td>\n",
       "      <td>S</td>\n",
       "    </tr>\n",
       "    <tr>\n",
       "      <th>1</th>\n",
       "      <td>2</td>\n",
       "      <td>1</td>\n",
       "      <td>1</td>\n",
       "      <td>Cumings, Mrs. John Bradley (Florence Briggs Th...</td>\n",
       "      <td>female</td>\n",
       "      <td>38.0</td>\n",
       "      <td>1</td>\n",
       "      <td>0</td>\n",
       "      <td>PC 17599</td>\n",
       "      <td>71.2833</td>\n",
       "      <td>C85</td>\n",
       "      <td>C</td>\n",
       "    </tr>\n",
       "    <tr>\n",
       "      <th>2</th>\n",
       "      <td>3</td>\n",
       "      <td>1</td>\n",
       "      <td>3</td>\n",
       "      <td>Heikkinen, Miss. Laina</td>\n",
       "      <td>female</td>\n",
       "      <td>26.0</td>\n",
       "      <td>0</td>\n",
       "      <td>0</td>\n",
       "      <td>STON/O2. 3101282</td>\n",
       "      <td>7.9250</td>\n",
       "      <td>NaN</td>\n",
       "      <td>S</td>\n",
       "    </tr>\n",
       "    <tr>\n",
       "      <th>3</th>\n",
       "      <td>4</td>\n",
       "      <td>1</td>\n",
       "      <td>1</td>\n",
       "      <td>Futrelle, Mrs. Jacques Heath (Lily May Peel)</td>\n",
       "      <td>female</td>\n",
       "      <td>35.0</td>\n",
       "      <td>1</td>\n",
       "      <td>0</td>\n",
       "      <td>113803</td>\n",
       "      <td>53.1000</td>\n",
       "      <td>C123</td>\n",
       "      <td>S</td>\n",
       "    </tr>\n",
       "    <tr>\n",
       "      <th>4</th>\n",
       "      <td>5</td>\n",
       "      <td>0</td>\n",
       "      <td>3</td>\n",
       "      <td>Allen, Mr. William Henry</td>\n",
       "      <td>male</td>\n",
       "      <td>35.0</td>\n",
       "      <td>0</td>\n",
       "      <td>0</td>\n",
       "      <td>373450</td>\n",
       "      <td>8.0500</td>\n",
       "      <td>NaN</td>\n",
       "      <td>S</td>\n",
       "    </tr>\n",
       "    <tr>\n",
       "      <th>5</th>\n",
       "      <td>6</td>\n",
       "      <td>0</td>\n",
       "      <td>3</td>\n",
       "      <td>Moran, Mr. James</td>\n",
       "      <td>male</td>\n",
       "      <td>NaN</td>\n",
       "      <td>0</td>\n",
       "      <td>0</td>\n",
       "      <td>330877</td>\n",
       "      <td>8.4583</td>\n",
       "      <td>NaN</td>\n",
       "      <td>Q</td>\n",
       "    </tr>\n",
       "    <tr>\n",
       "      <th>6</th>\n",
       "      <td>7</td>\n",
       "      <td>0</td>\n",
       "      <td>1</td>\n",
       "      <td>McCarthy, Mr. Timothy J</td>\n",
       "      <td>male</td>\n",
       "      <td>54.0</td>\n",
       "      <td>0</td>\n",
       "      <td>0</td>\n",
       "      <td>17463</td>\n",
       "      <td>51.8625</td>\n",
       "      <td>E46</td>\n",
       "      <td>S</td>\n",
       "    </tr>\n",
       "    <tr>\n",
       "      <th>7</th>\n",
       "      <td>8</td>\n",
       "      <td>0</td>\n",
       "      <td>3</td>\n",
       "      <td>Palsson, Master. Gosta Leonard</td>\n",
       "      <td>male</td>\n",
       "      <td>2.0</td>\n",
       "      <td>3</td>\n",
       "      <td>1</td>\n",
       "      <td>349909</td>\n",
       "      <td>21.0750</td>\n",
       "      <td>NaN</td>\n",
       "      <td>S</td>\n",
       "    </tr>\n",
       "    <tr>\n",
       "      <th>8</th>\n",
       "      <td>9</td>\n",
       "      <td>1</td>\n",
       "      <td>3</td>\n",
       "      <td>Johnson, Mrs. Oscar W (Elisabeth Vilhelmina Berg)</td>\n",
       "      <td>female</td>\n",
       "      <td>27.0</td>\n",
       "      <td>0</td>\n",
       "      <td>2</td>\n",
       "      <td>347742</td>\n",
       "      <td>11.1333</td>\n",
       "      <td>NaN</td>\n",
       "      <td>S</td>\n",
       "    </tr>\n",
       "    <tr>\n",
       "      <th>9</th>\n",
       "      <td>10</td>\n",
       "      <td>1</td>\n",
       "      <td>2</td>\n",
       "      <td>Nasser, Mrs. Nicholas (Adele Achem)</td>\n",
       "      <td>female</td>\n",
       "      <td>14.0</td>\n",
       "      <td>1</td>\n",
       "      <td>0</td>\n",
       "      <td>237736</td>\n",
       "      <td>30.0708</td>\n",
       "      <td>NaN</td>\n",
       "      <td>C</td>\n",
       "    </tr>\n",
       "  </tbody>\n",
       "</table>\n",
       "</div>"
      ],
      "text/plain": [
       "   PassengerId  Survived  Pclass  \\\n",
       "0            1         0       3   \n",
       "1            2         1       1   \n",
       "2            3         1       3   \n",
       "3            4         1       1   \n",
       "4            5         0       3   \n",
       "5            6         0       3   \n",
       "6            7         0       1   \n",
       "7            8         0       3   \n",
       "8            9         1       3   \n",
       "9           10         1       2   \n",
       "\n",
       "                                                Name     Sex   Age  SibSp  \\\n",
       "0                            Braund, Mr. Owen Harris    male  22.0      1   \n",
       "1  Cumings, Mrs. John Bradley (Florence Briggs Th...  female  38.0      1   \n",
       "2                             Heikkinen, Miss. Laina  female  26.0      0   \n",
       "3       Futrelle, Mrs. Jacques Heath (Lily May Peel)  female  35.0      1   \n",
       "4                           Allen, Mr. William Henry    male  35.0      0   \n",
       "5                                   Moran, Mr. James    male   NaN      0   \n",
       "6                            McCarthy, Mr. Timothy J    male  54.0      0   \n",
       "7                     Palsson, Master. Gosta Leonard    male   2.0      3   \n",
       "8  Johnson, Mrs. Oscar W (Elisabeth Vilhelmina Berg)  female  27.0      0   \n",
       "9                Nasser, Mrs. Nicholas (Adele Achem)  female  14.0      1   \n",
       "\n",
       "   Parch            Ticket     Fare Cabin Embarked  \n",
       "0      0         A/5 21171   7.2500   NaN        S  \n",
       "1      0          PC 17599  71.2833   C85        C  \n",
       "2      0  STON/O2. 3101282   7.9250   NaN        S  \n",
       "3      0            113803  53.1000  C123        S  \n",
       "4      0            373450   8.0500   NaN        S  \n",
       "5      0            330877   8.4583   NaN        Q  \n",
       "6      0             17463  51.8625   E46        S  \n",
       "7      1            349909  21.0750   NaN        S  \n",
       "8      2            347742  11.1333   NaN        S  \n",
       "9      0            237736  30.0708   NaN        C  "
      ]
     },
     "execution_count": 2,
     "metadata": {},
     "output_type": "execute_result"
    }
   ],
   "source": [
    "train_df = pd.read_csv(\"/kaggle/input/titanic/train.csv\")\n",
    "serving_df = pd.read_csv(\"/kaggle/input/titanic/test.csv\")\n",
    "\n",
    "train_df.head(10)"
   ]
  },
  {
   "cell_type": "markdown",
   "id": "c12540af",
   "metadata": {
    "papermill": {
     "duration": 0.007402,
     "end_time": "2023-08-30T07:16:12.219125",
     "exception": false,
     "start_time": "2023-08-30T07:16:12.211723",
     "status": "completed"
    },
    "tags": []
   },
   "source": [
    "# Prepare dataset\n",
    "\n",
    "We will apply the following transformations on the dataset.\n",
    "\n",
    "1. Tokenize the names. For example, \"Braund, Mr. Owen Harris\" will become [\"Braund\", \"Mr.\", \"Owen\", \"Harris\"].\n",
    "2. Extract any prefix in the ticket. For example ticket \"STON/O2. 3101282\" will become \"STON/O2.\" and 3101282."
   ]
  },
  {
   "cell_type": "code",
   "execution_count": 3,
   "id": "47fc6034",
   "metadata": {
    "execution": {
     "iopub.execute_input": "2023-08-30T07:16:12.236749Z",
     "iopub.status.busy": "2023-08-30T07:16:12.235610Z",
     "iopub.status.idle": "2023-08-30T07:16:12.269352Z",
     "shell.execute_reply": "2023-08-30T07:16:12.268193Z"
    },
    "papermill": {
     "duration": 0.045252,
     "end_time": "2023-08-30T07:16:12.271929",
     "exception": false,
     "start_time": "2023-08-30T07:16:12.226677",
     "status": "completed"
    },
    "tags": []
   },
   "outputs": [
    {
     "data": {
      "text/html": [
       "<div>\n",
       "<style scoped>\n",
       "    .dataframe tbody tr th:only-of-type {\n",
       "        vertical-align: middle;\n",
       "    }\n",
       "\n",
       "    .dataframe tbody tr th {\n",
       "        vertical-align: top;\n",
       "    }\n",
       "\n",
       "    .dataframe thead th {\n",
       "        text-align: right;\n",
       "    }\n",
       "</style>\n",
       "<table border=\"1\" class=\"dataframe\">\n",
       "  <thead>\n",
       "    <tr style=\"text-align: right;\">\n",
       "      <th></th>\n",
       "      <th>PassengerId</th>\n",
       "      <th>Survived</th>\n",
       "      <th>Pclass</th>\n",
       "      <th>Name</th>\n",
       "      <th>Sex</th>\n",
       "      <th>Age</th>\n",
       "      <th>SibSp</th>\n",
       "      <th>Parch</th>\n",
       "      <th>Ticket</th>\n",
       "      <th>Fare</th>\n",
       "      <th>Cabin</th>\n",
       "      <th>Embarked</th>\n",
       "      <th>Ticket_number</th>\n",
       "      <th>Ticket_item</th>\n",
       "    </tr>\n",
       "  </thead>\n",
       "  <tbody>\n",
       "    <tr>\n",
       "      <th>0</th>\n",
       "      <td>1</td>\n",
       "      <td>0</td>\n",
       "      <td>3</td>\n",
       "      <td>Braund Mr Owen Harris</td>\n",
       "      <td>male</td>\n",
       "      <td>22.0</td>\n",
       "      <td>1</td>\n",
       "      <td>0</td>\n",
       "      <td>A/5 21171</td>\n",
       "      <td>7.2500</td>\n",
       "      <td>NaN</td>\n",
       "      <td>S</td>\n",
       "      <td>21171</td>\n",
       "      <td>A/5</td>\n",
       "    </tr>\n",
       "    <tr>\n",
       "      <th>1</th>\n",
       "      <td>2</td>\n",
       "      <td>1</td>\n",
       "      <td>1</td>\n",
       "      <td>Cumings Mrs John Bradley Florence Briggs Thayer</td>\n",
       "      <td>female</td>\n",
       "      <td>38.0</td>\n",
       "      <td>1</td>\n",
       "      <td>0</td>\n",
       "      <td>PC 17599</td>\n",
       "      <td>71.2833</td>\n",
       "      <td>C85</td>\n",
       "      <td>C</td>\n",
       "      <td>17599</td>\n",
       "      <td>PC</td>\n",
       "    </tr>\n",
       "    <tr>\n",
       "      <th>2</th>\n",
       "      <td>3</td>\n",
       "      <td>1</td>\n",
       "      <td>3</td>\n",
       "      <td>Heikkinen Miss Laina</td>\n",
       "      <td>female</td>\n",
       "      <td>26.0</td>\n",
       "      <td>0</td>\n",
       "      <td>0</td>\n",
       "      <td>STON/O2. 3101282</td>\n",
       "      <td>7.9250</td>\n",
       "      <td>NaN</td>\n",
       "      <td>S</td>\n",
       "      <td>3101282</td>\n",
       "      <td>STON/O2.</td>\n",
       "    </tr>\n",
       "    <tr>\n",
       "      <th>3</th>\n",
       "      <td>4</td>\n",
       "      <td>1</td>\n",
       "      <td>1</td>\n",
       "      <td>Futrelle Mrs Jacques Heath Lily May Peel</td>\n",
       "      <td>female</td>\n",
       "      <td>35.0</td>\n",
       "      <td>1</td>\n",
       "      <td>0</td>\n",
       "      <td>113803</td>\n",
       "      <td>53.1000</td>\n",
       "      <td>C123</td>\n",
       "      <td>S</td>\n",
       "      <td>113803</td>\n",
       "      <td>NONE</td>\n",
       "    </tr>\n",
       "    <tr>\n",
       "      <th>4</th>\n",
       "      <td>5</td>\n",
       "      <td>0</td>\n",
       "      <td>3</td>\n",
       "      <td>Allen Mr William Henry</td>\n",
       "      <td>male</td>\n",
       "      <td>35.0</td>\n",
       "      <td>0</td>\n",
       "      <td>0</td>\n",
       "      <td>373450</td>\n",
       "      <td>8.0500</td>\n",
       "      <td>NaN</td>\n",
       "      <td>S</td>\n",
       "      <td>373450</td>\n",
       "      <td>NONE</td>\n",
       "    </tr>\n",
       "  </tbody>\n",
       "</table>\n",
       "</div>"
      ],
      "text/plain": [
       "   PassengerId  Survived  Pclass  \\\n",
       "0            1         0       3   \n",
       "1            2         1       1   \n",
       "2            3         1       3   \n",
       "3            4         1       1   \n",
       "4            5         0       3   \n",
       "\n",
       "                                              Name     Sex   Age  SibSp  \\\n",
       "0                            Braund Mr Owen Harris    male  22.0      1   \n",
       "1  Cumings Mrs John Bradley Florence Briggs Thayer  female  38.0      1   \n",
       "2                             Heikkinen Miss Laina  female  26.0      0   \n",
       "3         Futrelle Mrs Jacques Heath Lily May Peel  female  35.0      1   \n",
       "4                           Allen Mr William Henry    male  35.0      0   \n",
       "\n",
       "   Parch            Ticket     Fare Cabin Embarked Ticket_number Ticket_item  \n",
       "0      0         A/5 21171   7.2500   NaN        S         21171         A/5  \n",
       "1      0          PC 17599  71.2833   C85        C         17599          PC  \n",
       "2      0  STON/O2. 3101282   7.9250   NaN        S       3101282    STON/O2.  \n",
       "3      0            113803  53.1000  C123        S        113803        NONE  \n",
       "4      0            373450   8.0500   NaN        S        373450        NONE  "
      ]
     },
     "execution_count": 3,
     "metadata": {},
     "output_type": "execute_result"
    }
   ],
   "source": [
    "def preprocess(df):\n",
    "    df = df.copy()\n",
    "    \n",
    "    def normalize_name(x):\n",
    "        return \" \".join([v.strip(\",()[].\\\"'\") for v in x.split(\" \")])\n",
    "    \n",
    "    def ticket_number(x):\n",
    "        return x.split(\" \")[-1]\n",
    "        \n",
    "    def ticket_item(x):\n",
    "        items = x.split(\" \")\n",
    "        if len(items) == 1:\n",
    "            return \"NONE\"\n",
    "        return \"_\".join(items[0:-1])\n",
    "    \n",
    "    df[\"Name\"] = df[\"Name\"].apply(normalize_name)\n",
    "    df[\"Ticket_number\"] = df[\"Ticket\"].apply(ticket_number)\n",
    "    df[\"Ticket_item\"] = df[\"Ticket\"].apply(ticket_item)                     \n",
    "    return df\n",
    "    \n",
    "preprocessed_train_df = preprocess(train_df)\n",
    "preprocessed_serving_df = preprocess(serving_df)\n",
    "\n",
    "preprocessed_train_df.head(5)"
   ]
  },
  {
   "cell_type": "markdown",
   "id": "9c703f0e",
   "metadata": {
    "papermill": {
     "duration": 0.007532,
     "end_time": "2023-08-30T07:16:12.287517",
     "exception": false,
     "start_time": "2023-08-30T07:16:12.279985",
     "status": "completed"
    },
    "tags": []
   },
   "source": [
    "Let's keep the list of the input features of the model. Notably, we don't want to train our model on the \"PassengerId\" and \"Ticket\" features."
   ]
  },
  {
   "cell_type": "code",
   "execution_count": 4,
   "id": "f8b9e550",
   "metadata": {
    "execution": {
     "iopub.execute_input": "2023-08-30T07:16:12.305469Z",
     "iopub.status.busy": "2023-08-30T07:16:12.305025Z",
     "iopub.status.idle": "2023-08-30T07:16:12.310924Z",
     "shell.execute_reply": "2023-08-30T07:16:12.310067Z"
    },
    "papermill": {
     "duration": 0.020569,
     "end_time": "2023-08-30T07:16:12.315957",
     "exception": false,
     "start_time": "2023-08-30T07:16:12.295388",
     "status": "completed"
    },
    "tags": []
   },
   "outputs": [
    {
     "name": "stdout",
     "output_type": "stream",
     "text": [
      "Input features: ['Pclass', 'Name', 'Sex', 'Age', 'SibSp', 'Parch', 'Fare', 'Cabin', 'Embarked', 'Ticket_number', 'Ticket_item']\n"
     ]
    }
   ],
   "source": [
    "input_features = list(preprocessed_train_df.columns)\n",
    "input_features.remove(\"Ticket\")\n",
    "input_features.remove(\"PassengerId\")\n",
    "input_features.remove(\"Survived\")\n",
    "#input_features.remove(\"Ticket_number\")\n",
    "\n",
    "print(f\"Input features: {input_features}\")"
   ]
  },
  {
   "cell_type": "markdown",
   "id": "e46ff19d",
   "metadata": {
    "papermill": {
     "duration": 0.007716,
     "end_time": "2023-08-30T07:16:12.332665",
     "exception": false,
     "start_time": "2023-08-30T07:16:12.324949",
     "status": "completed"
    },
    "tags": []
   },
   "source": [
    "# Convert Pandas dataset to TensorFlow Dataset"
   ]
  },
  {
   "cell_type": "code",
   "execution_count": 5,
   "id": "694a2fb6",
   "metadata": {
    "execution": {
     "iopub.execute_input": "2023-08-30T07:16:12.352162Z",
     "iopub.status.busy": "2023-08-30T07:16:12.351488Z",
     "iopub.status.idle": "2023-08-30T07:16:12.652825Z",
     "shell.execute_reply": "2023-08-30T07:16:12.651593Z"
    },
    "papermill": {
     "duration": 0.314172,
     "end_time": "2023-08-30T07:16:12.655694",
     "exception": false,
     "start_time": "2023-08-30T07:16:12.341522",
     "status": "completed"
    },
    "tags": []
   },
   "outputs": [],
   "source": [
    "def tokenize_names(features, labels=None):\n",
    "    \"\"\"Divite the names into tokens. TF-DF can consume text tokens natively.\"\"\"\n",
    "    features[\"Name\"] =  tf.strings.split(features[\"Name\"])\n",
    "    return features, labels\n",
    "\n",
    "train_ds = tfdf.keras.pd_dataframe_to_tf_dataset(preprocessed_train_df,label=\"Survived\").map(tokenize_names)\n",
    "serving_ds = tfdf.keras.pd_dataframe_to_tf_dataset(preprocessed_serving_df).map(tokenize_names)"
   ]
  },
  {
   "cell_type": "markdown",
   "id": "e128c704",
   "metadata": {
    "papermill": {
     "duration": 0.007754,
     "end_time": "2023-08-30T07:16:12.671799",
     "exception": false,
     "start_time": "2023-08-30T07:16:12.664045",
     "status": "completed"
    },
    "tags": []
   },
   "source": [
    "# Train model with default parameters\n",
    "\n",
    "### Train model\n",
    "\n",
    "First, we are training a GradientBoostedTreesModel model with the default parameters."
   ]
  },
  {
   "cell_type": "code",
   "execution_count": 6,
   "id": "6f96a6b4",
   "metadata": {
    "execution": {
     "iopub.execute_input": "2023-08-30T07:16:12.690045Z",
     "iopub.status.busy": "2023-08-30T07:16:12.689122Z",
     "iopub.status.idle": "2023-08-30T07:16:22.109610Z",
     "shell.execute_reply": "2023-08-30T07:16:22.108125Z"
    },
    "papermill": {
     "duration": 9.43234,
     "end_time": "2023-08-30T07:16:22.112202",
     "exception": false,
     "start_time": "2023-08-30T07:16:12.679862",
     "status": "completed"
    },
    "tags": []
   },
   "outputs": [
    {
     "name": "stderr",
     "output_type": "stream",
     "text": [
      "[INFO 2023-08-30T07:16:19.248207395+00:00 kernel.cc:1214] Loading model from path /tmp/tmpn1mth73r/model/ with prefix 0820169111824695\n",
      "[INFO 2023-08-30T07:16:19.257904222+00:00 abstract_model.cc:1311] Engine \"GradientBoostedTreesQuickScorerExtended\" built\n",
      "[INFO 2023-08-30T07:16:19.258048745+00:00 kernel.cc:1046] Use fast generic engine\n"
     ]
    },
    {
     "name": "stdout",
     "output_type": "stream",
     "text": [
      "WARNING: AutoGraph could not transform <function simple_ml_inference_op_with_handle at 0x7be514c164d0> and will run it as-is.\n",
      "Please report this to the TensorFlow team. When filing the bug, set the verbosity to 10 (on Linux, `export AUTOGRAPH_VERBOSITY=10`) and attach the full output.\n",
      "Cause: could not get source code\n",
      "To silence this warning, decorate the function with @tf.autograph.experimental.do_not_convert\n",
      "Accuracy: 0.8260869383811951 Loss:0.8608942627906799\n"
     ]
    }
   ],
   "source": [
    "model = tfdf.keras.GradientBoostedTreesModel(\n",
    "    verbose=0, # Very few logs\n",
    "    features=[tfdf.keras.FeatureUsage(name=n) for n in input_features],\n",
    "    exclude_non_specified_features=True, # Only use the features in \"features\"\n",
    "    random_seed=1234,\n",
    ")\n",
    "model.fit(train_ds)\n",
    "\n",
    "self_evaluation = model.make_inspector().evaluation()\n",
    "print(f\"Accuracy: {self_evaluation.accuracy} Loss:{self_evaluation.loss}\")"
   ]
  },
  {
   "cell_type": "markdown",
   "id": "bdce8bf9",
   "metadata": {
    "papermill": {
     "duration": 0.007886,
     "end_time": "2023-08-30T07:16:22.128333",
     "exception": false,
     "start_time": "2023-08-30T07:16:22.120447",
     "status": "completed"
    },
    "tags": []
   },
   "source": [
    "# Train model with improved default parameters\n",
    "\n",
    "Now you'll use some specific parameters when creating the GBT model"
   ]
  },
  {
   "cell_type": "code",
   "execution_count": 7,
   "id": "7ed7e123",
   "metadata": {
    "execution": {
     "iopub.execute_input": "2023-08-30T07:16:22.147473Z",
     "iopub.status.busy": "2023-08-30T07:16:22.146284Z",
     "iopub.status.idle": "2023-08-30T07:16:23.390030Z",
     "shell.execute_reply": "2023-08-30T07:16:23.387698Z"
    },
    "papermill": {
     "duration": 1.256207,
     "end_time": "2023-08-30T07:16:23.392762",
     "exception": false,
     "start_time": "2023-08-30T07:16:22.136555",
     "status": "completed"
    },
    "tags": []
   },
   "outputs": [
    {
     "name": "stderr",
     "output_type": "stream",
     "text": [
      "[INFO 2023-08-30T07:16:23.061511004+00:00 kernel.cc:1214] Loading model from path /tmp/tmpbrtkybsr/model/ with prefix 4750e3fd95e14722\n",
      "[INFO 2023-08-30T07:16:23.070406742+00:00 decision_forest.cc:661] Model loaded with 33 root(s), 1823 node(s), and 10 input feature(s).\n",
      "[INFO 2023-08-30T07:16:23.070603051+00:00 kernel.cc:1046] Use fast generic engine\n"
     ]
    },
    {
     "name": "stdout",
     "output_type": "stream",
     "text": [
      "Accuracy: 0.760869562625885 Loss:1.0154211521148682\n"
     ]
    }
   ],
   "source": [
    "model = tfdf.keras.GradientBoostedTreesModel(\n",
    "    verbose=0, # Very few logs\n",
    "    features=[tfdf.keras.FeatureUsage(name=n) for n in input_features],\n",
    "    exclude_non_specified_features=True, # Only use the features in \"features\"\n",
    "    \n",
    "    #num_trees=2000,\n",
    "    \n",
    "    # Only for GBT.\n",
    "    # A bit slower, but great to understand the model.\n",
    "    # compute_permutation_variable_importance=True,\n",
    "    \n",
    "    # Change the default hyper-parameters\n",
    "    # hyperparameter_template=\"benchmark_rank1@v1\",\n",
    "    \n",
    "    #num_trees=1000,\n",
    "    #tuner=tuner\n",
    "    \n",
    "    min_examples=1,\n",
    "    categorical_algorithm=\"RANDOM\",\n",
    "    #max_depth=4,\n",
    "    shrinkage=0.05,\n",
    "    #num_candidate_attributes_ratio=0.2,\n",
    "    split_axis=\"SPARSE_OBLIQUE\",\n",
    "    sparse_oblique_normalization=\"MIN_MAX\",\n",
    "    sparse_oblique_num_projections_exponent=2.0,\n",
    "    num_trees=2000,\n",
    "    #validation_ratio=0.0,\n",
    "    random_seed=1234,\n",
    "    \n",
    ")\n",
    "model.fit(train_ds)\n",
    "\n",
    "self_evaluation = model.make_inspector().evaluation()\n",
    "print(f\"Accuracy: {self_evaluation.accuracy} Loss:{self_evaluation.loss}\")"
   ]
  },
  {
   "cell_type": "markdown",
   "id": "c6b5578a",
   "metadata": {
    "papermill": {
     "duration": 0.008013,
     "end_time": "2023-08-30T07:16:23.409154",
     "exception": false,
     "start_time": "2023-08-30T07:16:23.401141",
     "status": "completed"
    },
    "tags": []
   },
   "source": [
    "Let's look at the model and you can also notice the information about variable importance that the model figured out"
   ]
  },
  {
   "cell_type": "code",
   "execution_count": 8,
   "id": "deda78c9",
   "metadata": {
    "execution": {
     "iopub.execute_input": "2023-08-30T07:16:23.428292Z",
     "iopub.status.busy": "2023-08-30T07:16:23.427503Z",
     "iopub.status.idle": "2023-08-30T07:16:23.445730Z",
     "shell.execute_reply": "2023-08-30T07:16:23.444335Z"
    },
    "papermill": {
     "duration": 0.033541,
     "end_time": "2023-08-30T07:16:23.451120",
     "exception": false,
     "start_time": "2023-08-30T07:16:23.417579",
     "status": "completed"
    },
    "tags": []
   },
   "outputs": [
    {
     "name": "stdout",
     "output_type": "stream",
     "text": [
      "Model: \"gradient_boosted_trees_model_1\"\n",
      "_________________________________________________________________\n",
      " Layer (type)                Output Shape              Param #   \n",
      "=================================================================\n",
      "=================================================================\n",
      "Total params: 1\n",
      "Trainable params: 0\n",
      "Non-trainable params: 1\n",
      "_________________________________________________________________\n",
      "Type: \"GRADIENT_BOOSTED_TREES\"\n",
      "Task: CLASSIFICATION\n",
      "Label: \"__LABEL\"\n",
      "\n",
      "Input Features (11):\n",
      "\tAge\n",
      "\tCabin\n",
      "\tEmbarked\n",
      "\tFare\n",
      "\tName\n",
      "\tParch\n",
      "\tPclass\n",
      "\tSex\n",
      "\tSibSp\n",
      "\tTicket_item\n",
      "\tTicket_number\n",
      "\n",
      "No weights\n",
      "\n",
      "Variable Importance: INV_MEAN_MIN_DEPTH:\n",
      "    1.           \"Sex\"  0.576632 ################\n",
      "    2.           \"Age\"  0.364297 #######\n",
      "    3.          \"Fare\"  0.278839 ####\n",
      "    4.          \"Name\"  0.208548 #\n",
      "    5. \"Ticket_number\"  0.180792 \n",
      "    6.        \"Pclass\"  0.176962 \n",
      "    7.         \"Parch\"  0.176659 \n",
      "    8.   \"Ticket_item\"  0.175540 \n",
      "    9.      \"Embarked\"  0.172339 \n",
      "   10.         \"SibSp\"  0.170442 \n",
      "\n",
      "Variable Importance: NUM_AS_ROOT:\n",
      "    1.  \"Sex\" 28.000000 ################\n",
      "    2. \"Name\"  5.000000 \n",
      "\n",
      "Variable Importance: NUM_NODES:\n",
      "    1.           \"Age\" 406.000000 ################\n",
      "    2.          \"Fare\" 290.000000 ###########\n",
      "    3.          \"Name\" 44.000000 #\n",
      "    4.   \"Ticket_item\" 42.000000 #\n",
      "    5.           \"Sex\" 31.000000 #\n",
      "    6.         \"Parch\" 28.000000 \n",
      "    7. \"Ticket_number\" 22.000000 \n",
      "    8.        \"Pclass\" 15.000000 \n",
      "    9.      \"Embarked\" 12.000000 \n",
      "   10.         \"SibSp\"  5.000000 \n",
      "\n",
      "Variable Importance: SUM_SCORE:\n",
      "    1.           \"Sex\" 460.497828 ################\n",
      "    2.           \"Age\" 355.963333 ############\n",
      "    3.          \"Fare\" 292.870316 ##########\n",
      "    4.          \"Name\" 108.548952 ###\n",
      "    5.        \"Pclass\" 28.132254 \n",
      "    6.   \"Ticket_item\" 23.818676 \n",
      "    7. \"Ticket_number\" 23.772288 \n",
      "    8.         \"Parch\" 19.303155 \n",
      "    9.      \"Embarked\"  8.155722 \n",
      "   10.         \"SibSp\"  0.015225 \n",
      "\n",
      "\n",
      "\n",
      "Loss: BINOMIAL_LOG_LIKELIHOOD\n",
      "Validation loss value: 1.01542\n",
      "Number of trees per iteration: 1\n",
      "Node format: NOT_SET\n",
      "Number of trees: 33\n",
      "Total number of nodes: 1823\n",
      "\n",
      "Number of nodes by tree:\n",
      "Count: 33 Average: 55.2424 StdDev: 5.13473\n",
      "Min: 39 Max: 63 Ignored: 0\n",
      "----------------------------------------------\n",
      "[ 39, 40) 1   3.03%   3.03% #\n",
      "[ 40, 41) 0   0.00%   3.03%\n",
      "[ 41, 42) 0   0.00%   3.03%\n",
      "[ 42, 44) 0   0.00%   3.03%\n",
      "[ 44, 45) 0   0.00%   3.03%\n",
      "[ 45, 46) 0   0.00%   3.03%\n",
      "[ 46, 47) 0   0.00%   3.03%\n",
      "[ 47, 49) 2   6.06%   9.09% ###\n",
      "[ 49, 50) 2   6.06%  15.15% ###\n",
      "[ 50, 51) 0   0.00%  15.15%\n",
      "[ 51, 52) 2   6.06%  21.21% ###\n",
      "[ 52, 54) 5  15.15%  36.36% #######\n",
      "[ 54, 55) 0   0.00%  36.36%\n",
      "[ 55, 56) 5  15.15%  51.52% #######\n",
      "[ 56, 57) 0   0.00%  51.52%\n",
      "[ 57, 59) 4  12.12%  63.64% ######\n",
      "[ 59, 60) 7  21.21%  84.85% ##########\n",
      "[ 60, 61) 0   0.00%  84.85%\n",
      "[ 61, 62) 3   9.09%  93.94% ####\n",
      "[ 62, 63] 2   6.06% 100.00% ###\n",
      "\n",
      "Depth by leafs:\n",
      "Count: 928 Average: 4.8847 StdDev: 0.380934\n",
      "Min: 2 Max: 5 Ignored: 0\n",
      "----------------------------------------------\n",
      "[ 2, 3)   1   0.11%   0.11%\n",
      "[ 3, 4)  17   1.83%   1.94%\n",
      "[ 4, 5)  70   7.54%   9.48% #\n",
      "[ 5, 5] 840  90.52% 100.00% ##########\n",
      "\n",
      "Number of training obs by leaf:\n",
      "Count: 928 Average: 28.4127 StdDev: 70.8313\n",
      "Min: 1 Max: 438 Ignored: 0\n",
      "----------------------------------------------\n",
      "[   1,  22) 731  78.77%  78.77% ##########\n",
      "[  22,  44)  74   7.97%  86.75% #\n",
      "[  44,  66)  37   3.99%  90.73% #\n",
      "[  66,  88)   3   0.32%  91.06%\n",
      "[  88, 110)   9   0.97%  92.03%\n",
      "[ 110, 132)   8   0.86%  92.89%\n",
      "[ 132, 154)  18   1.94%  94.83%\n",
      "[ 154, 176)   8   0.86%  95.69%\n",
      "[ 176, 198)   6   0.65%  96.34%\n",
      "[ 198, 220)   2   0.22%  96.55%\n",
      "[ 220, 241)   2   0.22%  96.77%\n",
      "[ 241, 263)   1   0.11%  96.88%\n",
      "[ 263, 285)   2   0.22%  97.09%\n",
      "[ 285, 307)   5   0.54%  97.63%\n",
      "[ 307, 329)   1   0.11%  97.74%\n",
      "[ 329, 351)   2   0.22%  97.95%\n",
      "[ 351, 373)   6   0.65%  98.60%\n",
      "[ 373, 395)   6   0.65%  99.25%\n",
      "[ 395, 417)   2   0.22%  99.46%\n",
      "[ 417, 438]   5   0.54% 100.00%\n",
      "\n",
      "Attribute in nodes:\n",
      "\t406 : Age [NUMERICAL]\n",
      "\t290 : Fare [NUMERICAL]\n",
      "\t44 : Name [CATEGORICAL_SET]\n",
      "\t42 : Ticket_item [CATEGORICAL]\n",
      "\t31 : Sex [CATEGORICAL]\n",
      "\t28 : Parch [NUMERICAL]\n",
      "\t22 : Ticket_number [CATEGORICAL]\n",
      "\t15 : Pclass [NUMERICAL]\n",
      "\t12 : Embarked [CATEGORICAL]\n",
      "\t5 : SibSp [NUMERICAL]\n",
      "\n",
      "Attribute in nodes with depth <= 0:\n",
      "\t28 : Sex [CATEGORICAL]\n",
      "\t5 : Name [CATEGORICAL_SET]\n",
      "\n",
      "Attribute in nodes with depth <= 1:\n",
      "\t39 : Age [NUMERICAL]\n",
      "\t28 : Sex [CATEGORICAL]\n",
      "\t21 : Fare [NUMERICAL]\n",
      "\t5 : Name [CATEGORICAL_SET]\n",
      "\t3 : Pclass [NUMERICAL]\n",
      "\t2 : Ticket_number [CATEGORICAL]\n",
      "\t1 : Parch [NUMERICAL]\n",
      "\n",
      "Attribute in nodes with depth <= 2:\n",
      "\t102 : Age [NUMERICAL]\n",
      "\t65 : Fare [NUMERICAL]\n",
      "\t28 : Sex [CATEGORICAL]\n",
      "\t15 : Name [CATEGORICAL_SET]\n",
      "\t7 : Ticket_number [CATEGORICAL]\n",
      "\t5 : Pclass [NUMERICAL]\n",
      "\t4 : Parch [NUMERICAL]\n",
      "\t2 : Ticket_item [CATEGORICAL]\n",
      "\t2 : Embarked [CATEGORICAL]\n",
      "\n",
      "Attribute in nodes with depth <= 3:\n",
      "\t206 : Age [NUMERICAL]\n",
      "\t156 : Fare [NUMERICAL]\n",
      "\t33 : Name [CATEGORICAL_SET]\n",
      "\t29 : Sex [CATEGORICAL]\n",
      "\t19 : Ticket_number [CATEGORICAL]\n",
      "\t11 : Ticket_item [CATEGORICAL]\n",
      "\t11 : Parch [NUMERICAL]\n",
      "\t7 : Pclass [NUMERICAL]\n",
      "\t3 : Embarked [CATEGORICAL]\n",
      "\n",
      "Attribute in nodes with depth <= 5:\n",
      "\t406 : Age [NUMERICAL]\n",
      "\t290 : Fare [NUMERICAL]\n",
      "\t44 : Name [CATEGORICAL_SET]\n",
      "\t42 : Ticket_item [CATEGORICAL]\n",
      "\t31 : Sex [CATEGORICAL]\n",
      "\t28 : Parch [NUMERICAL]\n",
      "\t22 : Ticket_number [CATEGORICAL]\n",
      "\t15 : Pclass [NUMERICAL]\n",
      "\t12 : Embarked [CATEGORICAL]\n",
      "\t5 : SibSp [NUMERICAL]\n",
      "\n",
      "Condition type in nodes:\n",
      "\t744 : ObliqueCondition\n",
      "\t122 : ContainsBitmapCondition\n",
      "\t29 : ContainsCondition\n",
      "Condition type in nodes with depth <= 0:\n",
      "\t31 : ContainsBitmapCondition\n",
      "\t2 : ContainsCondition\n",
      "Condition type in nodes with depth <= 1:\n",
      "\t64 : ObliqueCondition\n",
      "\t33 : ContainsBitmapCondition\n",
      "\t2 : ContainsCondition\n",
      "Condition type in nodes with depth <= 2:\n",
      "\t176 : ObliqueCondition\n",
      "\t51 : ContainsBitmapCondition\n",
      "\t3 : ContainsCondition\n",
      "Condition type in nodes with depth <= 3:\n",
      "\t380 : ObliqueCondition\n",
      "\t77 : ContainsBitmapCondition\n",
      "\t18 : ContainsCondition\n",
      "Condition type in nodes with depth <= 5:\n",
      "\t744 : ObliqueCondition\n",
      "\t122 : ContainsBitmapCondition\n",
      "\t29 : ContainsCondition\n",
      "\n",
      "Training logs:\n",
      "Number of iteration to final model: 33\n",
      "\tIter:1 train-loss:1.266350 valid-loss:1.360049  train-accuracy:0.624531 valid-accuracy:0.543478\n",
      "\tIter:2 train-loss:1.213702 valid-loss:1.321897  train-accuracy:0.624531 valid-accuracy:0.543478\n",
      "\tIter:3 train-loss:1.165783 valid-loss:1.286817  train-accuracy:0.624531 valid-accuracy:0.543478\n",
      "\tIter:4 train-loss:1.122469 valid-loss:1.256133  train-accuracy:0.624531 valid-accuracy:0.543478\n",
      "\tIter:5 train-loss:1.081461 valid-loss:1.229342  train-accuracy:0.808511 valid-accuracy:0.771739\n",
      "\tIter:6 train-loss:1.045305 valid-loss:1.204601  train-accuracy:0.826033 valid-accuracy:0.728261\n",
      "\tIter:16 train-loss:0.794952 valid-loss:1.058568  train-accuracy:0.914894 valid-accuracy:0.771739\n",
      "\tIter:26 train-loss:0.646146 valid-loss:1.021539  train-accuracy:0.926158 valid-accuracy:0.793478\n",
      "\tIter:36 train-loss:0.558627 valid-loss:1.023663  train-accuracy:0.929912 valid-accuracy:0.771739\n",
      "\tIter:46 train-loss:0.493899 valid-loss:1.025164  train-accuracy:0.931164 valid-accuracy:0.760870\n",
      "\tIter:56 train-loss:0.451528 valid-loss:1.032880  train-accuracy:0.938673 valid-accuracy:0.771739\n",
      "\n"
     ]
    }
   ],
   "source": [
    "model.summary()"
   ]
  },
  {
   "cell_type": "markdown",
   "id": "3fff0c50",
   "metadata": {
    "papermill": {
     "duration": 0.008914,
     "end_time": "2023-08-30T07:16:23.469392",
     "exception": false,
     "start_time": "2023-08-30T07:16:23.460478",
     "status": "completed"
    },
    "tags": []
   },
   "source": [
    "# Make predictions"
   ]
  },
  {
   "cell_type": "code",
   "execution_count": 9,
   "id": "3d24d998",
   "metadata": {
    "execution": {
     "iopub.execute_input": "2023-08-30T07:16:23.489770Z",
     "iopub.status.busy": "2023-08-30T07:16:23.489378Z",
     "iopub.status.idle": "2023-08-30T07:16:24.653534Z",
     "shell.execute_reply": "2023-08-30T07:16:24.652066Z"
    },
    "papermill": {
     "duration": 1.177835,
     "end_time": "2023-08-30T07:16:24.656444",
     "exception": false,
     "start_time": "2023-08-30T07:16:23.478609",
     "status": "completed"
    },
    "tags": []
   },
   "outputs": [
    {
     "name": "stdout",
     "output_type": "stream",
     "text": [
      "Submission exported to /kaggle/working/submission.csv\n",
      "PassengerId,Survived\r\n",
      "892,0\r\n",
      "893,0\r\n",
      "894,0\r\n",
      "895,0\r\n",
      "896,0\r\n",
      "897,0\r\n",
      "898,0\r\n",
      "899,0\r\n",
      "900,1\r\n"
     ]
    }
   ],
   "source": [
    "def prediction_to_kaggle_format(model, threshold=0.5):\n",
    "    proba_survive = model.predict(serving_ds, verbose=0)[:,0]\n",
    "    return pd.DataFrame({\n",
    "        \"PassengerId\": serving_df[\"PassengerId\"],\n",
    "        \"Survived\": (proba_survive >= threshold).astype(int)\n",
    "    })\n",
    "\n",
    "def make_submission(kaggle_predictions):\n",
    "    path=\"/kaggle/working/submission.csv\"\n",
    "    kaggle_predictions.to_csv(path, index=False)\n",
    "    print(f\"Submission exported to {path}\")\n",
    "    \n",
    "kaggle_predictions = prediction_to_kaggle_format(model)\n",
    "make_submission(kaggle_predictions)\n",
    "!head /kaggle/working/submission.csv"
   ]
  },
  {
   "cell_type": "markdown",
   "id": "729e6176",
   "metadata": {
    "papermill": {
     "duration": 0.00907,
     "end_time": "2023-08-30T07:16:24.674933",
     "exception": false,
     "start_time": "2023-08-30T07:16:24.665863",
     "status": "completed"
    },
    "tags": []
   },
   "source": [
    "# Training a model with hyperparameter tunning\n",
    "\n",
    "Hyper-parameter tuning is enabled by specifying the tuner constructor argument of the model. The tuner object contains all the configuration of the tuner (search space, optimizer, trial and objective).\n"
   ]
  },
  {
   "cell_type": "code",
   "execution_count": 10,
   "id": "6c111621",
   "metadata": {
    "execution": {
     "iopub.execute_input": "2023-08-30T07:16:24.698259Z",
     "iopub.status.busy": "2023-08-30T07:16:24.697757Z",
     "iopub.status.idle": "2023-08-30T07:18:26.382120Z",
     "shell.execute_reply": "2023-08-30T07:18:26.380743Z"
    },
    "papermill": {
     "duration": 121.698176,
     "end_time": "2023-08-30T07:18:26.384603",
     "exception": false,
     "start_time": "2023-08-30T07:16:24.686427",
     "status": "completed"
    },
    "tags": []
   },
   "outputs": [
    {
     "name": "stdout",
     "output_type": "stream",
     "text": [
      "Use /tmp/tmpqa_cjt82 as temporary training directory\n"
     ]
    },
    {
     "name": "stderr",
     "output_type": "stream",
     "text": [
      "[INFO 2023-08-30T07:18:26.001473501+00:00 kernel.cc:1214] Loading model from path /tmp/tmpqa_cjt82/model/ with prefix 1941c9125abe4390\n",
      "[INFO 2023-08-30T07:18:26.015713171+00:00 decision_forest.cc:661] Model loaded with 19 root(s), 589 node(s), and 12 input feature(s).\n",
      "[INFO 2023-08-30T07:18:26.015768396+00:00 abstract_model.cc:1311] Engine \"GradientBoostedTreesGeneric\" built\n",
      "[INFO 2023-08-30T07:18:26.015799216+00:00 kernel.cc:1046] Use fast generic engine\n"
     ]
    },
    {
     "name": "stdout",
     "output_type": "stream",
     "text": [
      "Accuracy: 0.9178082346916199 Loss:0.6503586769104004\n"
     ]
    }
   ],
   "source": [
    "tuner = tfdf.tuner.RandomSearch(num_trials=1000)\n",
    "tuner.choice(\"min_examples\", [2, 5, 7, 10])\n",
    "tuner.choice(\"categorical_algorithm\", [\"CART\", \"RANDOM\"])\n",
    "\n",
    "local_search_space = tuner.choice(\"growing_strategy\", [\"LOCAL\"])\n",
    "local_search_space.choice(\"max_depth\", [3, 4, 5, 6, 8])\n",
    "\n",
    "global_search_space = tuner.choice(\"growing_strategy\", [\"BEST_FIRST_GLOBAL\"], merge=True)\n",
    "global_search_space.choice(\"max_num_nodes\", [16, 32, 64, 128, 256])\n",
    "\n",
    "#tuner.choice(\"use_hessian_gain\", [True, False])\n",
    "tuner.choice(\"shrinkage\", [0.02, 0.05, 0.10, 0.15])\n",
    "tuner.choice(\"num_candidate_attributes_ratio\", [0.2, 0.5, 0.9, 1.0])\n",
    "\n",
    "\n",
    "tuner.choice(\"split_axis\", [\"AXIS_ALIGNED\"])\n",
    "oblique_space = tuner.choice(\"split_axis\", [\"SPARSE_OBLIQUE\"], merge=True)\n",
    "oblique_space.choice(\"sparse_oblique_normalization\",\n",
    "                     [\"NONE\", \"STANDARD_DEVIATION\", \"MIN_MAX\"])\n",
    "oblique_space.choice(\"sparse_oblique_weights\", [\"BINARY\", \"CONTINUOUS\"])\n",
    "oblique_space.choice(\"sparse_oblique_num_projections_exponent\", [1.0, 1.5])\n",
    "\n",
    "# Tune the model. Notice the `tuner=tuner`.\n",
    "tuned_model = tfdf.keras.GradientBoostedTreesModel(tuner=tuner)\n",
    "tuned_model.fit(train_ds, verbose=0)\n",
    "\n",
    "tuned_self_evaluation = tuned_model.make_inspector().evaluation()\n",
    "print(f\"Accuracy: {tuned_self_evaluation.accuracy} Loss:{tuned_self_evaluation.loss}\")"
   ]
  },
  {
   "cell_type": "markdown",
   "id": "c790992d",
   "metadata": {
    "papermill": {
     "duration": 0.008856,
     "end_time": "2023-08-30T07:18:26.402851",
     "exception": false,
     "start_time": "2023-08-30T07:18:26.393995",
     "status": "completed"
    },
    "tags": []
   },
   "source": [
    "In the last line in the cell above, you can see the accuracy is higher than previously with default parameters and parameters set by hand.\n",
    "\n",
    "This is the main idea behing hyperparameter tuning.\n",
    "\n",
    "For more information you can follow this tutorial: [Automated hyper-parameter tuning](https://www.tensorflow.org/decision_forests/tutorials/automatic_tuning_colab)"
   ]
  },
  {
   "cell_type": "markdown",
   "id": "a8b27ff0",
   "metadata": {
    "papermill": {
     "duration": 0.008763,
     "end_time": "2023-08-30T07:18:26.420541",
     "exception": false,
     "start_time": "2023-08-30T07:18:26.411778",
     "status": "completed"
    },
    "tags": []
   },
   "source": [
    "# Making an ensemble\n",
    "\n",
    "Here you'll create 100 models with different seeds and combine their results\n",
    "\n",
    "This approach removes a little bit the random aspects related to creating ML models\n",
    "\n",
    "In the GBT creation is used the `honest` parameter. It will use different training examples to infer the structure and the leaf values. This regularization technique trades examples for bias estimates."
   ]
  },
  {
   "cell_type": "code",
   "execution_count": 11,
   "id": "ffd0c3a7",
   "metadata": {
    "execution": {
     "iopub.execute_input": "2023-08-30T07:18:26.440657Z",
     "iopub.status.busy": "2023-08-30T07:18:26.439998Z",
     "iopub.status.idle": "2023-08-30T07:20:28.137624Z",
     "shell.execute_reply": "2023-08-30T07:20:28.136270Z"
    },
    "papermill": {
     "duration": 121.731955,
     "end_time": "2023-08-30T07:20:28.161570",
     "exception": false,
     "start_time": "2023-08-30T07:18:26.429615",
     "status": "completed"
    },
    "tags": []
   },
   "outputs": [
    {
     "name": "stdout",
     "output_type": "stream",
     "text": [
      "i:0\n"
     ]
    },
    {
     "name": "stderr",
     "output_type": "stream",
     "text": [
      "[INFO 2023-08-30T07:18:26.944448925+00:00 kernel.cc:1214] Loading model from path /tmp/tmp6k33ajhe/model/ with prefix eabf9ad5b1814240\n",
      "[INFO 2023-08-30T07:18:26.948242858+00:00 kernel.cc:1046] Use fast generic engine\n"
     ]
    },
    {
     "name": "stdout",
     "output_type": "stream",
     "text": [
      "i:1\n"
     ]
    },
    {
     "name": "stderr",
     "output_type": "stream",
     "text": [
      "[INFO 2023-08-30T07:18:28.33393016+00:00 kernel.cc:1214] Loading model from path /tmp/tmp2a9djc7e/model/ with prefix 49342e28e9d44e30\n",
      "[INFO 2023-08-30T07:18:28.350972764+00:00 kernel.cc:1046] Use fast generic engine\n"
     ]
    },
    {
     "name": "stdout",
     "output_type": "stream",
     "text": [
      "i:2\n"
     ]
    },
    {
     "name": "stderr",
     "output_type": "stream",
     "text": [
      "[INFO 2023-08-30T07:18:29.285887944+00:00 kernel.cc:1214] Loading model from path /tmp/tmpgz7o390t/model/ with prefix 389c984394c34cff\n",
      "[INFO 2023-08-30T07:18:29.290049067+00:00 kernel.cc:1046] Use fast generic engine\n"
     ]
    },
    {
     "name": "stdout",
     "output_type": "stream",
     "text": [
      "i:3\n"
     ]
    },
    {
     "name": "stderr",
     "output_type": "stream",
     "text": [
      "[INFO 2023-08-30T07:18:30.738477802+00:00 kernel.cc:1214] Loading model from path /tmp/tmpry0gwkic/model/ with prefix ad9f72a4396a415c\n",
      "[INFO 2023-08-30T07:18:30.76189722+00:00 kernel.cc:1046] Use fast generic engine\n"
     ]
    },
    {
     "name": "stdout",
     "output_type": "stream",
     "text": [
      "i:4\n"
     ]
    },
    {
     "name": "stderr",
     "output_type": "stream",
     "text": [
      "[INFO 2023-08-30T07:18:31.762484402+00:00 kernel.cc:1214] Loading model from path /tmp/tmp6mrxu0ht/model/ with prefix ec641a8007654cc4\n",
      "[INFO 2023-08-30T07:18:31.767554283+00:00 kernel.cc:1046] Use fast generic engine\n"
     ]
    },
    {
     "name": "stdout",
     "output_type": "stream",
     "text": [
      "i:5\n"
     ]
    },
    {
     "name": "stderr",
     "output_type": "stream",
     "text": [
      "[INFO 2023-08-30T07:18:32.703591423+00:00 kernel.cc:1214] Loading model from path /tmp/tmp7_3yofj8/model/ with prefix c29cf45a67cd496e\n",
      "[INFO 2023-08-30T07:18:32.706271829+00:00 kernel.cc:1046] Use fast generic engine\n"
     ]
    },
    {
     "name": "stdout",
     "output_type": "stream",
     "text": [
      "i:6\n"
     ]
    },
    {
     "name": "stderr",
     "output_type": "stream",
     "text": [
      "[INFO 2023-08-30T07:18:33.703732319+00:00 kernel.cc:1214] Loading model from path /tmp/tmp2os_sads/model/ with prefix df5c169a44c04a6a\n",
      "[INFO 2023-08-30T07:18:33.710731936+00:00 kernel.cc:1046] Use fast generic engine\n"
     ]
    },
    {
     "name": "stdout",
     "output_type": "stream",
     "text": [
      "i:7\n"
     ]
    },
    {
     "name": "stderr",
     "output_type": "stream",
     "text": [
      "[INFO 2023-08-30T07:18:35.007601031+00:00 kernel.cc:1214] Loading model from path /tmp/tmpnrrn__vz/model/ with prefix 9728894dd387403d\n",
      "[INFO 2023-08-30T07:18:35.025401044+00:00 kernel.cc:1046] Use fast generic engine\n"
     ]
    },
    {
     "name": "stdout",
     "output_type": "stream",
     "text": [
      "i:8\n"
     ]
    },
    {
     "name": "stderr",
     "output_type": "stream",
     "text": [
      "[INFO 2023-08-30T07:18:36.438108329+00:00 kernel.cc:1214] Loading model from path /tmp/tmp_eora67a/model/ with prefix cc16d6796c4a445b\n",
      "[INFO 2023-08-30T07:18:36.44731138+00:00 abstract_model.cc:1311] Engine \"GradientBoostedTreesQuickScorerExtended\" built\n",
      "[INFO 2023-08-30T07:18:36.447356771+00:00 kernel.cc:1046] Use fast generic engine\n"
     ]
    },
    {
     "name": "stdout",
     "output_type": "stream",
     "text": [
      "i:9\n"
     ]
    },
    {
     "name": "stderr",
     "output_type": "stream",
     "text": [
      "[INFO 2023-08-30T07:18:37.601068503+00:00 kernel.cc:1214] Loading model from path /tmp/tmpgf6_kc2n/model/ with prefix 2b86b73aafc443a6\n",
      "[INFO 2023-08-30T07:18:37.614667363+00:00 kernel.cc:1046] Use fast generic engine\n"
     ]
    },
    {
     "name": "stdout",
     "output_type": "stream",
     "text": [
      "i:10\n"
     ]
    },
    {
     "name": "stderr",
     "output_type": "stream",
     "text": [
      "[INFO 2023-08-30T07:18:38.571925626+00:00 kernel.cc:1214] Loading model from path /tmp/tmp5jabx5of/model/ with prefix bff7d9ede94346c9\n",
      "[INFO 2023-08-30T07:18:38.577179584+00:00 kernel.cc:1046] Use fast generic engine\n"
     ]
    },
    {
     "name": "stdout",
     "output_type": "stream",
     "text": [
      "i:11\n"
     ]
    },
    {
     "name": "stderr",
     "output_type": "stream",
     "text": [
      "[INFO 2023-08-30T07:18:39.773810933+00:00 kernel.cc:1214] Loading model from path /tmp/tmp250pf4vg/model/ with prefix 1799499cd15e41bd\n",
      "[INFO 2023-08-30T07:18:39.786882296+00:00 kernel.cc:1046] Use fast generic engine\n"
     ]
    },
    {
     "name": "stdout",
     "output_type": "stream",
     "text": [
      "i:12\n"
     ]
    },
    {
     "name": "stderr",
     "output_type": "stream",
     "text": [
      "[INFO 2023-08-30T07:18:40.733865105+00:00 kernel.cc:1214] Loading model from path /tmp/tmps0bq7xoy/model/ with prefix 2a2fc0bc568e4170\n",
      "[INFO 2023-08-30T07:18:40.739145545+00:00 kernel.cc:1046] Use fast generic engine\n"
     ]
    },
    {
     "name": "stdout",
     "output_type": "stream",
     "text": [
      "i:13\n"
     ]
    },
    {
     "name": "stderr",
     "output_type": "stream",
     "text": [
      "[INFO 2023-08-30T07:18:41.892158617+00:00 kernel.cc:1214] Loading model from path /tmp/tmp5o_oyut6/model/ with prefix 1ec82c6920884e1e\n",
      "[INFO 2023-08-30T07:18:41.902438125+00:00 kernel.cc:1046] Use fast generic engine\n"
     ]
    },
    {
     "name": "stdout",
     "output_type": "stream",
     "text": [
      "i:14\n"
     ]
    },
    {
     "name": "stderr",
     "output_type": "stream",
     "text": [
      "[INFO 2023-08-30T07:18:42.943556666+00:00 kernel.cc:1214] Loading model from path /tmp/tmpy2kg0w70/model/ with prefix 35a6675ab8a2439c\n",
      "[INFO 2023-08-30T07:18:42.949327438+00:00 kernel.cc:1046] Use fast generic engine\n"
     ]
    },
    {
     "name": "stdout",
     "output_type": "stream",
     "text": [
      "i:15\n"
     ]
    },
    {
     "name": "stderr",
     "output_type": "stream",
     "text": [
      "[INFO 2023-08-30T07:18:43.946750209+00:00 kernel.cc:1214] Loading model from path /tmp/tmpf41ekowp/model/ with prefix 24001303974d4d69\n",
      "[INFO 2023-08-30T07:18:43.953671303+00:00 kernel.cc:1046] Use fast generic engine\n"
     ]
    },
    {
     "name": "stdout",
     "output_type": "stream",
     "text": [
      "i:16\n"
     ]
    },
    {
     "name": "stderr",
     "output_type": "stream",
     "text": [
      "[INFO 2023-08-30T07:18:45.078817375+00:00 kernel.cc:1214] Loading model from path /tmp/tmpka_kfb_2/model/ with prefix 29c2f73054ec4467\n",
      "[INFO 2023-08-30T07:18:45.090341316+00:00 kernel.cc:1046] Use fast generic engine\n"
     ]
    },
    {
     "name": "stdout",
     "output_type": "stream",
     "text": [
      "i:17\n"
     ]
    },
    {
     "name": "stderr",
     "output_type": "stream",
     "text": [
      "[INFO 2023-08-30T07:18:46.238149073+00:00 kernel.cc:1214] Loading model from path /tmp/tmpxa5eamc3/model/ with prefix 6d7801d159e34d17\n",
      "[INFO 2023-08-30T07:18:46.250491625+00:00 kernel.cc:1046] Use fast generic engine\n"
     ]
    },
    {
     "name": "stdout",
     "output_type": "stream",
     "text": [
      "i:18\n"
     ]
    },
    {
     "name": "stderr",
     "output_type": "stream",
     "text": [
      "[INFO 2023-08-30T07:18:47.351945971+00:00 kernel.cc:1214] Loading model from path /tmp/tmpg1wa14y9/model/ with prefix 21ac972bf0ba4900\n",
      "[INFO 2023-08-30T07:18:47.362557119+00:00 abstract_model.cc:1311] Engine \"GradientBoostedTreesQuickScorerExtended\" built\n",
      "[INFO 2023-08-30T07:18:47.362596164+00:00 kernel.cc:1046] Use fast generic engine\n"
     ]
    },
    {
     "name": "stdout",
     "output_type": "stream",
     "text": [
      "i:19\n"
     ]
    },
    {
     "name": "stderr",
     "output_type": "stream",
     "text": [
      "[INFO 2023-08-30T07:18:48.623159255+00:00 kernel.cc:1214] Loading model from path /tmp/tmpk2r0a7ap/model/ with prefix 57e661bad31941fb\n",
      "[INFO 2023-08-30T07:18:48.639347111+00:00 kernel.cc:1046] Use fast generic engine\n"
     ]
    },
    {
     "name": "stdout",
     "output_type": "stream",
     "text": [
      "i:20\n"
     ]
    },
    {
     "name": "stderr",
     "output_type": "stream",
     "text": [
      "[INFO 2023-08-30T07:18:50.24272411+00:00 kernel.cc:1214] Loading model from path /tmp/tmpqkdak7oy/model/ with prefix 11a0e252752d4547\n",
      "[INFO 2023-08-30T07:18:50.25616659+00:00 kernel.cc:1046] Use fast generic engine\n"
     ]
    },
    {
     "name": "stdout",
     "output_type": "stream",
     "text": [
      "i:21\n"
     ]
    },
    {
     "name": "stderr",
     "output_type": "stream",
     "text": [
      "[INFO 2023-08-30T07:18:51.203817665+00:00 kernel.cc:1214] Loading model from path /tmp/tmpyhzqypgr/model/ with prefix 753cfbf7de794282\n",
      "[INFO 2023-08-30T07:18:51.208568293+00:00 kernel.cc:1046] Use fast generic engine\n"
     ]
    },
    {
     "name": "stdout",
     "output_type": "stream",
     "text": [
      "i:22\n"
     ]
    },
    {
     "name": "stderr",
     "output_type": "stream",
     "text": [
      "[INFO 2023-08-30T07:18:52.172720794+00:00 kernel.cc:1214] Loading model from path /tmp/tmpvecg5f8t/model/ with prefix 79b5b68a676c4cee\n",
      "[INFO 2023-08-30T07:18:52.177872319+00:00 kernel.cc:1046] Use fast generic engine\n"
     ]
    },
    {
     "name": "stdout",
     "output_type": "stream",
     "text": [
      "i:23\n"
     ]
    },
    {
     "name": "stderr",
     "output_type": "stream",
     "text": [
      "[INFO 2023-08-30T07:18:53.315155999+00:00 kernel.cc:1214] Loading model from path /tmp/tmp7korku7o/model/ with prefix 7de36570c1244abe\n",
      "[INFO 2023-08-30T07:18:53.323120927+00:00 kernel.cc:1046] Use fast generic engine\n"
     ]
    },
    {
     "name": "stdout",
     "output_type": "stream",
     "text": [
      "i:24\n"
     ]
    },
    {
     "name": "stderr",
     "output_type": "stream",
     "text": [
      "[INFO 2023-08-30T07:18:54.290021696+00:00 kernel.cc:1214] Loading model from path /tmp/tmpb8ild90s/model/ with prefix 20b5058dc11147ac\n",
      "[INFO 2023-08-30T07:18:54.295292955+00:00 kernel.cc:1046] Use fast generic engine\n"
     ]
    },
    {
     "name": "stdout",
     "output_type": "stream",
     "text": [
      "i:25\n"
     ]
    },
    {
     "name": "stderr",
     "output_type": "stream",
     "text": [
      "[INFO 2023-08-30T07:18:55.395533775+00:00 kernel.cc:1214] Loading model from path /tmp/tmp2dkddxud/model/ with prefix e62965166e1245d5\n",
      "[INFO 2023-08-30T07:18:55.405744456+00:00 kernel.cc:1046] Use fast generic engine\n"
     ]
    },
    {
     "name": "stdout",
     "output_type": "stream",
     "text": [
      "i:26\n"
     ]
    },
    {
     "name": "stderr",
     "output_type": "stream",
     "text": [
      "[INFO 2023-08-30T07:18:56.464155154+00:00 kernel.cc:1214] Loading model from path /tmp/tmpg46x9xbw/model/ with prefix 4fbf87f7c0144e4f\n",
      "[INFO 2023-08-30T07:18:56.473422089+00:00 kernel.cc:1046] Use fast generic engine\n"
     ]
    },
    {
     "name": "stdout",
     "output_type": "stream",
     "text": [
      "i:27\n"
     ]
    },
    {
     "name": "stderr",
     "output_type": "stream",
     "text": [
      "[INFO 2023-08-30T07:18:58.06096153+00:00 kernel.cc:1214] Loading model from path /tmp/tmplv49_xil/model/ with prefix 6f68f3be67a44a16\n",
      "[INFO 2023-08-30T07:18:58.066971228+00:00 abstract_model.cc:1311] Engine \"GradientBoostedTreesQuickScorerExtended\" built\n",
      "[INFO 2023-08-30T07:18:58.067016588+00:00 kernel.cc:1046] Use fast generic engine\n"
     ]
    },
    {
     "name": "stdout",
     "output_type": "stream",
     "text": [
      "i:28\n"
     ]
    },
    {
     "name": "stderr",
     "output_type": "stream",
     "text": [
      "[INFO 2023-08-30T07:18:59.073373535+00:00 kernel.cc:1214] Loading model from path /tmp/tmpd9klmke9/model/ with prefix 2bfbef8d40b64782\n",
      "[INFO 2023-08-30T07:18:59.07823121+00:00 kernel.cc:1046] Use fast generic engine\n"
     ]
    },
    {
     "name": "stdout",
     "output_type": "stream",
     "text": [
      "i:29\n"
     ]
    },
    {
     "name": "stderr",
     "output_type": "stream",
     "text": [
      "[INFO 2023-08-30T07:19:00.254735486+00:00 kernel.cc:1214] Loading model from path /tmp/tmppw9aiw6z/model/ with prefix 590871080a5047f6\n",
      "[INFO 2023-08-30T07:19:00.266550323+00:00 kernel.cc:1046] Use fast generic engine\n"
     ]
    },
    {
     "name": "stdout",
     "output_type": "stream",
     "text": [
      "i:30\n"
     ]
    },
    {
     "name": "stderr",
     "output_type": "stream",
     "text": [
      "[INFO 2023-08-30T07:19:02.263988308+00:00 kernel.cc:1214] Loading model from path /tmp/tmpgzx409ru/model/ with prefix 750830b352c0468a\n",
      "[INFO 2023-08-30T07:19:02.2933545+00:00 kernel.cc:1046] Use fast generic engine\n"
     ]
    },
    {
     "name": "stdout",
     "output_type": "stream",
     "text": [
      "i:31\n"
     ]
    },
    {
     "name": "stderr",
     "output_type": "stream",
     "text": [
      "[INFO 2023-08-30T07:19:03.371739619+00:00 kernel.cc:1214] Loading model from path /tmp/tmpv1jxtfuz/model/ with prefix 7b06e8fb1ac841e4\n",
      "[INFO 2023-08-30T07:19:03.381124092+00:00 kernel.cc:1046] Use fast generic engine\n"
     ]
    },
    {
     "name": "stdout",
     "output_type": "stream",
     "text": [
      "i:32\n"
     ]
    },
    {
     "name": "stderr",
     "output_type": "stream",
     "text": [
      "[INFO 2023-08-30T07:19:04.343444427+00:00 kernel.cc:1214] Loading model from path /tmp/tmpsm2ttx7u/model/ with prefix 7d533c78fef541e6\n",
      "[INFO 2023-08-30T07:19:04.348760793+00:00 kernel.cc:1046] Use fast generic engine\n"
     ]
    },
    {
     "name": "stdout",
     "output_type": "stream",
     "text": [
      "i:33\n"
     ]
    },
    {
     "name": "stderr",
     "output_type": "stream",
     "text": [
      "[INFO 2023-08-30T07:19:05.492691583+00:00 kernel.cc:1214] Loading model from path /tmp/tmphfk12yb9/model/ with prefix 8123f686a6584da5\n",
      "[INFO 2023-08-30T07:19:05.504819067+00:00 kernel.cc:1046] Use fast generic engine\n"
     ]
    },
    {
     "name": "stdout",
     "output_type": "stream",
     "text": [
      "i:34\n"
     ]
    },
    {
     "name": "stderr",
     "output_type": "stream",
     "text": [
      "[INFO 2023-08-30T07:19:06.527988983+00:00 kernel.cc:1214] Loading model from path /tmp/tmpcs8exeyx/model/ with prefix 4f9015664d6b42e1\n",
      "[INFO 2023-08-30T07:19:06.53589297+00:00 kernel.cc:1046] Use fast generic engine\n"
     ]
    },
    {
     "name": "stdout",
     "output_type": "stream",
     "text": [
      "i:35\n"
     ]
    },
    {
     "name": "stderr",
     "output_type": "stream",
     "text": [
      "[INFO 2023-08-30T07:19:07.540807661+00:00 kernel.cc:1214] Loading model from path /tmp/tmpsw4oac4p/model/ with prefix ed06570a6aa640fa\n",
      "[INFO 2023-08-30T07:19:07.548190976+00:00 kernel.cc:1046] Use fast generic engine\n"
     ]
    },
    {
     "name": "stdout",
     "output_type": "stream",
     "text": [
      "i:36\n"
     ]
    },
    {
     "name": "stderr",
     "output_type": "stream",
     "text": [
      "[INFO 2023-08-30T07:19:08.73009445+00:00 kernel.cc:1214] Loading model from path /tmp/tmpxzxt1jpt/model/ with prefix e1554a7a43b64b9d\n",
      "[INFO 2023-08-30T07:19:08.742883863+00:00 abstract_model.cc:1311] Engine \"GradientBoostedTreesQuickScorerExtended\" built\n",
      "[INFO 2023-08-30T07:19:08.742925429+00:00 kernel.cc:1046] Use fast generic engine\n"
     ]
    },
    {
     "name": "stdout",
     "output_type": "stream",
     "text": [
      "i:37\n"
     ]
    },
    {
     "name": "stderr",
     "output_type": "stream",
     "text": [
      "[INFO 2023-08-30T07:19:09.808739973+00:00 kernel.cc:1214] Loading model from path /tmp/tmpkp3f0v_q/model/ with prefix 63f4792c01b34137\n",
      "[INFO 2023-08-30T07:19:09.817049281+00:00 kernel.cc:1046] Use fast generic engine\n"
     ]
    },
    {
     "name": "stdout",
     "output_type": "stream",
     "text": [
      "i:38\n"
     ]
    },
    {
     "name": "stderr",
     "output_type": "stream",
     "text": [
      "[INFO 2023-08-30T07:19:10.959749357+00:00 kernel.cc:1214] Loading model from path /tmp/tmpit5ft3fj/model/ with prefix deb6687c412c4fa6\n",
      "[INFO 2023-08-30T07:19:10.971733042+00:00 kernel.cc:1046] Use fast generic engine\n"
     ]
    },
    {
     "name": "stdout",
     "output_type": "stream",
     "text": [
      "i:39\n"
     ]
    },
    {
     "name": "stderr",
     "output_type": "stream",
     "text": [
      "[INFO 2023-08-30T07:19:12.112433898+00:00 kernel.cc:1214] Loading model from path /tmp/tmpc6ru4c77/model/ with prefix 720b2dd6d0b9433c\n",
      "[INFO 2023-08-30T07:19:12.124068489+00:00 kernel.cc:1046] Use fast generic engine\n"
     ]
    },
    {
     "name": "stdout",
     "output_type": "stream",
     "text": [
      "i:40\n"
     ]
    },
    {
     "name": "stderr",
     "output_type": "stream",
     "text": [
      "[INFO 2023-08-30T07:19:13.659668076+00:00 kernel.cc:1214] Loading model from path /tmp/tmpnpd9eofr/model/ with prefix 2322a464be6c4a08\n",
      "[INFO 2023-08-30T07:19:13.664067067+00:00 kernel.cc:1046] Use fast generic engine\n"
     ]
    },
    {
     "name": "stdout",
     "output_type": "stream",
     "text": [
      "i:41\n"
     ]
    },
    {
     "name": "stderr",
     "output_type": "stream",
     "text": [
      "[INFO 2023-08-30T07:19:14.896809972+00:00 kernel.cc:1214] Loading model from path /tmp/tmplvrle5w8/model/ with prefix 3096ded72edd4f85\n",
      "[INFO 2023-08-30T07:19:14.910759385+00:00 kernel.cc:1046] Use fast generic engine\n"
     ]
    },
    {
     "name": "stdout",
     "output_type": "stream",
     "text": [
      "i:42\n"
     ]
    },
    {
     "name": "stderr",
     "output_type": "stream",
     "text": [
      "[INFO 2023-08-30T07:19:16.451589576+00:00 kernel.cc:1214] Loading model from path /tmp/tmpjxvopirq/model/ with prefix 783f5c78f7d44020\n",
      "[INFO 2023-08-30T07:19:16.460028717+00:00 kernel.cc:1046] Use fast generic engine\n"
     ]
    },
    {
     "name": "stdout",
     "output_type": "stream",
     "text": [
      "i:43\n"
     ]
    },
    {
     "name": "stderr",
     "output_type": "stream",
     "text": [
      "[INFO 2023-08-30T07:19:17.725555112+00:00 kernel.cc:1214] Loading model from path /tmp/tmprfmqo1k8/model/ with prefix b98ca17f2f5e427b\n",
      "[INFO 2023-08-30T07:19:17.741228078+00:00 kernel.cc:1046] Use fast generic engine\n"
     ]
    },
    {
     "name": "stdout",
     "output_type": "stream",
     "text": [
      "i:44\n"
     ]
    },
    {
     "name": "stderr",
     "output_type": "stream",
     "text": [
      "[INFO 2023-08-30T07:19:18.786508875+00:00 kernel.cc:1214] Loading model from path /tmp/tmpazanr5jh/model/ with prefix eea64c507cec4547\n",
      "[INFO 2023-08-30T07:19:18.795159753+00:00 abstract_model.cc:1311] Engine \"GradientBoostedTreesQuickScorerExtended\" built\n",
      "[INFO 2023-08-30T07:19:18.795206511+00:00 kernel.cc:1046] Use fast generic engine\n"
     ]
    },
    {
     "name": "stdout",
     "output_type": "stream",
     "text": [
      "i:45\n"
     ]
    },
    {
     "name": "stderr",
     "output_type": "stream",
     "text": [
      "[INFO 2023-08-30T07:19:19.734166251+00:00 kernel.cc:1214] Loading model from path /tmp/tmpfg6rgm0h/model/ with prefix 4d59efe704854068\n",
      "[INFO 2023-08-30T07:19:19.73747757+00:00 kernel.cc:1046] Use fast generic engine\n"
     ]
    },
    {
     "name": "stdout",
     "output_type": "stream",
     "text": [
      "i:46\n"
     ]
    },
    {
     "name": "stderr",
     "output_type": "stream",
     "text": [
      "[INFO 2023-08-30T07:19:20.924234016+00:00 kernel.cc:1214] Loading model from path /tmp/tmpej0x8chr/model/ with prefix 363fb30888054c14\n",
      "[INFO 2023-08-30T07:19:20.93733607+00:00 kernel.cc:1046] Use fast generic engine\n"
     ]
    },
    {
     "name": "stdout",
     "output_type": "stream",
     "text": [
      "i:47\n"
     ]
    },
    {
     "name": "stderr",
     "output_type": "stream",
     "text": [
      "[INFO 2023-08-30T07:19:22.087697218+00:00 kernel.cc:1214] Loading model from path /tmp/tmpgxmed4j6/model/ with prefix 2bda2996963f462a\n",
      "[INFO 2023-08-30T07:19:22.099637221+00:00 kernel.cc:1046] Use fast generic engine\n"
     ]
    },
    {
     "name": "stdout",
     "output_type": "stream",
     "text": [
      "i:48\n"
     ]
    },
    {
     "name": "stderr",
     "output_type": "stream",
     "text": [
      "[INFO 2023-08-30T07:19:23.558762839+00:00 kernel.cc:1214] Loading model from path /tmp/tmp5q128wwh/model/ with prefix c6ba28984dd7420d\n",
      "[INFO 2023-08-30T07:19:23.562859753+00:00 kernel.cc:1046] Use fast generic engine\n"
     ]
    },
    {
     "name": "stdout",
     "output_type": "stream",
     "text": [
      "i:49\n"
     ]
    },
    {
     "name": "stderr",
     "output_type": "stream",
     "text": [
      "[INFO 2023-08-30T07:19:24.686647057+00:00 kernel.cc:1214] Loading model from path /tmp/tmpnoiv5fht/model/ with prefix b52328caae9f47c0\n",
      "[INFO 2023-08-30T07:19:24.692524378+00:00 kernel.cc:1046] Use fast generic engine\n"
     ]
    },
    {
     "name": "stdout",
     "output_type": "stream",
     "text": [
      "i:50\n"
     ]
    },
    {
     "name": "stderr",
     "output_type": "stream",
     "text": [
      "[INFO 2023-08-30T07:19:25.801804682+00:00 kernel.cc:1214] Loading model from path /tmp/tmpxev3bknr/model/ with prefix 50f0ee52fe604e3d\n",
      "[INFO 2023-08-30T07:19:25.812845153+00:00 kernel.cc:1046] Use fast generic engine\n"
     ]
    },
    {
     "name": "stdout",
     "output_type": "stream",
     "text": [
      "i:51\n"
     ]
    },
    {
     "name": "stderr",
     "output_type": "stream",
     "text": [
      "[INFO 2023-08-30T07:19:27.038571672+00:00 kernel.cc:1214] Loading model from path /tmp/tmpuoa1q3qr/model/ with prefix 2e614b7d1f15401e\n",
      "[INFO 2023-08-30T07:19:27.052492291+00:00 kernel.cc:1046] Use fast generic engine\n"
     ]
    },
    {
     "name": "stdout",
     "output_type": "stream",
     "text": [
      "i:52\n"
     ]
    },
    {
     "name": "stderr",
     "output_type": "stream",
     "text": [
      "[INFO 2023-08-30T07:19:28.077638553+00:00 kernel.cc:1214] Loading model from path /tmp/tmpnrav1kfd/model/ with prefix e5986fa22dc24754\n",
      "[INFO 2023-08-30T07:19:28.084805458+00:00 kernel.cc:1046] Use fast generic engine\n"
     ]
    },
    {
     "name": "stdout",
     "output_type": "stream",
     "text": [
      "i:53\n"
     ]
    },
    {
     "name": "stderr",
     "output_type": "stream",
     "text": [
      "[INFO 2023-08-30T07:19:29.120913033+00:00 kernel.cc:1214] Loading model from path /tmp/tmpmxz0kwi6/model/ with prefix d3e39d7c9d104c07\n",
      "[INFO 2023-08-30T07:19:29.127646191+00:00 abstract_model.cc:1311] Engine \"GradientBoostedTreesQuickScorerExtended\" built\n",
      "[INFO 2023-08-30T07:19:29.127681402+00:00 kernel.cc:1046] Use fast generic engine\n"
     ]
    },
    {
     "name": "stdout",
     "output_type": "stream",
     "text": [
      "i:54\n"
     ]
    },
    {
     "name": "stderr",
     "output_type": "stream",
     "text": [
      "[INFO 2023-08-30T07:19:30.655020555+00:00 kernel.cc:1214] Loading model from path /tmp/tmplhwj8p21/model/ with prefix d5363d54f1634b02\n",
      "[INFO 2023-08-30T07:19:30.659163495+00:00 kernel.cc:1046] Use fast generic engine\n"
     ]
    },
    {
     "name": "stdout",
     "output_type": "stream",
     "text": [
      "i:55\n"
     ]
    },
    {
     "name": "stderr",
     "output_type": "stream",
     "text": [
      "[INFO 2023-08-30T07:19:31.915096251+00:00 kernel.cc:1214] Loading model from path /tmp/tmpgfwfcvk_/model/ with prefix a884bc1d5feb4998\n",
      "[INFO 2023-08-30T07:19:31.930713959+00:00 kernel.cc:1046] Use fast generic engine\n"
     ]
    },
    {
     "name": "stdout",
     "output_type": "stream",
     "text": [
      "i:56\n"
     ]
    },
    {
     "name": "stderr",
     "output_type": "stream",
     "text": [
      "[INFO 2023-08-30T07:19:33.553470233+00:00 kernel.cc:1214] Loading model from path /tmp/tmpg52go1cz/model/ with prefix 2dbedd42865840d5\n",
      "[INFO 2023-08-30T07:19:33.564156713+00:00 kernel.cc:1046] Use fast generic engine\n"
     ]
    },
    {
     "name": "stdout",
     "output_type": "stream",
     "text": [
      "i:57\n"
     ]
    },
    {
     "name": "stderr",
     "output_type": "stream",
     "text": [
      "[INFO 2023-08-30T07:19:35.12283182+00:00 kernel.cc:1214] Loading model from path /tmp/tmpazqoxszy/model/ with prefix 278e7333df2a4cf4\n",
      "[INFO 2023-08-30T07:19:35.127013627+00:00 kernel.cc:1046] Use fast generic engine\n"
     ]
    },
    {
     "name": "stdout",
     "output_type": "stream",
     "text": [
      "i:58\n"
     ]
    },
    {
     "name": "stderr",
     "output_type": "stream",
     "text": [
      "[INFO 2023-08-30T07:19:36.248047421+00:00 kernel.cc:1214] Loading model from path /tmp/tmp6x1qyci_/model/ with prefix 2842bc69d1eb47e6\n",
      "[INFO 2023-08-30T07:19:36.25420966+00:00 kernel.cc:1046] Use fast generic engine\n"
     ]
    },
    {
     "name": "stdout",
     "output_type": "stream",
     "text": [
      "i:59\n"
     ]
    },
    {
     "name": "stderr",
     "output_type": "stream",
     "text": [
      "[INFO 2023-08-30T07:19:37.402100316+00:00 kernel.cc:1214] Loading model from path /tmp/tmpx5s_o721/model/ with prefix 5858561566144268\n",
      "[INFO 2023-08-30T07:19:37.410736481+00:00 kernel.cc:1046] Use fast generic engine\n"
     ]
    },
    {
     "name": "stdout",
     "output_type": "stream",
     "text": [
      "i:60\n"
     ]
    },
    {
     "name": "stderr",
     "output_type": "stream",
     "text": [
      "[INFO 2023-08-30T07:19:39.129622475+00:00 kernel.cc:1214] Loading model from path /tmp/tmpcgvdeulh/model/ with prefix 21ed8c5fdb2146d3\n",
      "[INFO 2023-08-30T07:19:39.138691258+00:00 abstract_model.cc:1311] Engine \"GradientBoostedTreesQuickScorerExtended\" built\n",
      "[INFO 2023-08-30T07:19:39.138740009+00:00 kernel.cc:1046] Use fast generic engine\n"
     ]
    },
    {
     "name": "stdout",
     "output_type": "stream",
     "text": [
      "i:61\n"
     ]
    },
    {
     "name": "stderr",
     "output_type": "stream",
     "text": [
      "[INFO 2023-08-30T07:19:40.143582927+00:00 kernel.cc:1214] Loading model from path /tmp/tmpnypasrjn/model/ with prefix 4289ea931b6c4708\n",
      "[INFO 2023-08-30T07:19:40.148426517+00:00 kernel.cc:1046] Use fast generic engine\n"
     ]
    },
    {
     "name": "stdout",
     "output_type": "stream",
     "text": [
      "i:62\n"
     ]
    },
    {
     "name": "stderr",
     "output_type": "stream",
     "text": [
      "[INFO 2023-08-30T07:19:41.641056169+00:00 kernel.cc:1214] Loading model from path /tmp/tmpw9agzjfn/model/ with prefix 6029c08ed2f744bf\n",
      "[INFO 2023-08-30T07:19:41.664263921+00:00 kernel.cc:1046] Use fast generic engine\n"
     ]
    },
    {
     "name": "stdout",
     "output_type": "stream",
     "text": [
      "i:63\n"
     ]
    },
    {
     "name": "stderr",
     "output_type": "stream",
     "text": [
      "[INFO 2023-08-30T07:19:42.921776122+00:00 kernel.cc:1214] Loading model from path /tmp/tmpk_y0tymi/model/ with prefix 3d8d78e5592d4058\n",
      "[INFO 2023-08-30T07:19:42.93026445+00:00 kernel.cc:1046] Use fast generic engine\n"
     ]
    },
    {
     "name": "stdout",
     "output_type": "stream",
     "text": [
      "i:64\n"
     ]
    },
    {
     "name": "stderr",
     "output_type": "stream",
     "text": [
      "[INFO 2023-08-30T07:19:43.940672523+00:00 kernel.cc:1214] Loading model from path /tmp/tmp2r1xj6lf/model/ with prefix b0c84d3cd11c4750\n",
      "[INFO 2023-08-30T07:19:43.947490972+00:00 kernel.cc:1046] Use fast generic engine\n"
     ]
    },
    {
     "name": "stdout",
     "output_type": "stream",
     "text": [
      "i:65\n"
     ]
    },
    {
     "name": "stderr",
     "output_type": "stream",
     "text": [
      "[INFO 2023-08-30T07:19:44.985912111+00:00 kernel.cc:1214] Loading model from path /tmp/tmpfv5nagqo/model/ with prefix 75bf2cc116994633\n",
      "[INFO 2023-08-30T07:19:44.990942699+00:00 kernel.cc:1046] Use fast generic engine\n"
     ]
    },
    {
     "name": "stdout",
     "output_type": "stream",
     "text": [
      "i:66\n"
     ]
    },
    {
     "name": "stderr",
     "output_type": "stream",
     "text": [
      "[INFO 2023-08-30T07:19:45.992020843+00:00 kernel.cc:1214] Loading model from path /tmp/tmpcqlo00h2/model/ with prefix b821247aaab24e2a\n",
      "[INFO 2023-08-30T07:19:45.997986633+00:00 kernel.cc:1046] Use fast generic engine\n"
     ]
    },
    {
     "name": "stdout",
     "output_type": "stream",
     "text": [
      "i:67\n"
     ]
    },
    {
     "name": "stderr",
     "output_type": "stream",
     "text": [
      "[INFO 2023-08-30T07:19:47.317528763+00:00 kernel.cc:1214] Loading model from path /tmp/tmpgb68iv49/model/ with prefix 220a7274c7474bb7\n",
      "[INFO 2023-08-30T07:19:47.334493931+00:00 kernel.cc:1046] Use fast generic engine\n"
     ]
    },
    {
     "name": "stdout",
     "output_type": "stream",
     "text": [
      "i:68\n"
     ]
    },
    {
     "name": "stderr",
     "output_type": "stream",
     "text": [
      "[INFO 2023-08-30T07:19:48.488393593+00:00 kernel.cc:1214] Loading model from path /tmp/tmpoko4fsvm/model/ with prefix 30b33fa5d380489c\n",
      "[INFO 2023-08-30T07:19:48.499091684+00:00 kernel.cc:1046] Use fast generic engine\n"
     ]
    },
    {
     "name": "stdout",
     "output_type": "stream",
     "text": [
      "i:69\n"
     ]
    },
    {
     "name": "stderr",
     "output_type": "stream",
     "text": [
      "[INFO 2023-08-30T07:19:49.549962633+00:00 kernel.cc:1214] Loading model from path /tmp/tmpq8qppe9w/model/ with prefix 9cffbe8e15c24e2e\n",
      "[INFO 2023-08-30T07:19:49.556130057+00:00 abstract_model.cc:1311] Engine \"GradientBoostedTreesQuickScorerExtended\" built\n",
      "[INFO 2023-08-30T07:19:49.556170904+00:00 kernel.cc:1046] Use fast generic engine\n"
     ]
    },
    {
     "name": "stdout",
     "output_type": "stream",
     "text": [
      "i:70\n"
     ]
    },
    {
     "name": "stderr",
     "output_type": "stream",
     "text": [
      "[INFO 2023-08-30T07:19:50.629848537+00:00 kernel.cc:1214] Loading model from path /tmp/tmpnoy_nl00/model/ with prefix 49a2a296a20b4d93\n",
      "[INFO 2023-08-30T07:19:50.637792678+00:00 kernel.cc:1046] Use fast generic engine\n"
     ]
    },
    {
     "name": "stdout",
     "output_type": "stream",
     "text": [
      "i:71\n"
     ]
    },
    {
     "name": "stderr",
     "output_type": "stream",
     "text": [
      "[INFO 2023-08-30T07:19:51.684778453+00:00 kernel.cc:1214] Loading model from path /tmp/tmpqvppzglm/model/ with prefix 5a044070a9174c5d\n",
      "[INFO 2023-08-30T07:19:51.691899882+00:00 kernel.cc:1046] Use fast generic engine\n"
     ]
    },
    {
     "name": "stdout",
     "output_type": "stream",
     "text": [
      "i:72\n"
     ]
    },
    {
     "name": "stderr",
     "output_type": "stream",
     "text": [
      "[INFO 2023-08-30T07:19:52.96619698+00:00 kernel.cc:1214] Loading model from path /tmp/tmpt49qnk87/model/ with prefix b0abc6021d4d458f\n",
      "[INFO 2023-08-30T07:19:52.980455594+00:00 kernel.cc:1046] Use fast generic engine\n"
     ]
    },
    {
     "name": "stdout",
     "output_type": "stream",
     "text": [
      "i:73\n"
     ]
    },
    {
     "name": "stderr",
     "output_type": "stream",
     "text": [
      "[INFO 2023-08-30T07:19:54.044835284+00:00 kernel.cc:1214] Loading model from path /tmp/tmpd7zb1l88/model/ with prefix 1d2a768d144d47de\n",
      "[INFO 2023-08-30T07:19:54.051368807+00:00 kernel.cc:1046] Use fast generic engine\n"
     ]
    },
    {
     "name": "stdout",
     "output_type": "stream",
     "text": [
      "i:74\n"
     ]
    },
    {
     "name": "stderr",
     "output_type": "stream",
     "text": [
      "[INFO 2023-08-30T07:19:55.255810278+00:00 kernel.cc:1214] Loading model from path /tmp/tmptg1p4gt1/model/ with prefix a62d41ca838c4714\n",
      "[INFO 2023-08-30T07:19:55.266447961+00:00 kernel.cc:1046] Use fast generic engine\n"
     ]
    },
    {
     "name": "stdout",
     "output_type": "stream",
     "text": [
      "i:75\n"
     ]
    },
    {
     "name": "stderr",
     "output_type": "stream",
     "text": [
      "[INFO 2023-08-30T07:19:56.385918063+00:00 kernel.cc:1214] Loading model from path /tmp/tmpdqu2jil3/model/ with prefix a94ef94175bb4b00\n",
      "[INFO 2023-08-30T07:19:56.393404465+00:00 kernel.cc:1046] Use fast generic engine\n"
     ]
    },
    {
     "name": "stdout",
     "output_type": "stream",
     "text": [
      "i:76\n"
     ]
    },
    {
     "name": "stderr",
     "output_type": "stream",
     "text": [
      "[INFO 2023-08-30T07:19:57.398794932+00:00 kernel.cc:1214] Loading model from path /tmp/tmpfpg520sf/model/ with prefix 154dc12ce5054244\n",
      "[INFO 2023-08-30T07:19:57.402664405+00:00 kernel.cc:1046] Use fast generic engine\n"
     ]
    },
    {
     "name": "stdout",
     "output_type": "stream",
     "text": [
      "i:77\n"
     ]
    },
    {
     "name": "stderr",
     "output_type": "stream",
     "text": [
      "[INFO 2023-08-30T07:19:58.431755179+00:00 kernel.cc:1214] Loading model from path /tmp/tmp0ozed3ui/model/ with prefix 4c3378fa08734dc9\n",
      "[INFO 2023-08-30T07:19:58.436272092+00:00 kernel.cc:1046] Use fast generic engine\n"
     ]
    },
    {
     "name": "stdout",
     "output_type": "stream",
     "text": [
      "i:78\n"
     ]
    },
    {
     "name": "stderr",
     "output_type": "stream",
     "text": [
      "[INFO 2023-08-30T07:19:59.535881022+00:00 kernel.cc:1214] Loading model from path /tmp/tmp4w4mwnet/model/ with prefix 0ea59835033e4034\n",
      "[INFO 2023-08-30T07:19:59.542296027+00:00 kernel.cc:1046] Use fast generic engine\n"
     ]
    },
    {
     "name": "stdout",
     "output_type": "stream",
     "text": [
      "i:79\n"
     ]
    },
    {
     "name": "stderr",
     "output_type": "stream",
     "text": [
      "[INFO 2023-08-30T07:20:00.630253082+00:00 kernel.cc:1214] Loading model from path /tmp/tmpytk9q7te/model/ with prefix 9422e755c0f845c1\n",
      "[INFO 2023-08-30T07:20:00.6365468+00:00 abstract_model.cc:1311] Engine \"GradientBoostedTreesQuickScorerExtended\" built\n",
      "[INFO 2023-08-30T07:20:00.636594078+00:00 kernel.cc:1046] Use fast generic engine\n"
     ]
    },
    {
     "name": "stdout",
     "output_type": "stream",
     "text": [
      "i:80\n"
     ]
    },
    {
     "name": "stderr",
     "output_type": "stream",
     "text": [
      "[INFO 2023-08-30T07:20:01.769025767+00:00 kernel.cc:1214] Loading model from path /tmp/tmppm5gpijk/model/ with prefix 2915f4c1f24747e3\n",
      "[INFO 2023-08-30T07:20:01.777899799+00:00 kernel.cc:1046] Use fast generic engine\n"
     ]
    },
    {
     "name": "stdout",
     "output_type": "stream",
     "text": [
      "i:81\n"
     ]
    },
    {
     "name": "stderr",
     "output_type": "stream",
     "text": [
      "[INFO 2023-08-30T07:20:03.651803565+00:00 kernel.cc:1214] Loading model from path /tmp/tmpoxno8cut/model/ with prefix 1fa0cd5b62fb43d1\n",
      "[INFO 2023-08-30T07:20:03.66515133+00:00 kernel.cc:1046] Use fast generic engine\n"
     ]
    },
    {
     "name": "stdout",
     "output_type": "stream",
     "text": [
      "i:82\n"
     ]
    },
    {
     "name": "stderr",
     "output_type": "stream",
     "text": [
      "[INFO 2023-08-30T07:20:05.366190455+00:00 kernel.cc:1214] Loading model from path /tmp/tmpwah3luat/model/ with prefix 1432a949d5d94ed3\n",
      "[INFO 2023-08-30T07:20:05.376730299+00:00 kernel.cc:1046] Use fast generic engine\n"
     ]
    },
    {
     "name": "stdout",
     "output_type": "stream",
     "text": [
      "i:83\n"
     ]
    },
    {
     "name": "stderr",
     "output_type": "stream",
     "text": [
      "[INFO 2023-08-30T07:20:07.11180569+00:00 kernel.cc:1214] Loading model from path /tmp/tmpr1969utq/model/ with prefix fa16f7fe549744c5\n",
      "[INFO 2023-08-30T07:20:07.120686021+00:00 kernel.cc:1046] Use fast generic engine\n"
     ]
    },
    {
     "name": "stdout",
     "output_type": "stream",
     "text": [
      "i:84\n"
     ]
    },
    {
     "name": "stderr",
     "output_type": "stream",
     "text": [
      "[INFO 2023-08-30T07:20:09.0307224+00:00 kernel.cc:1214] Loading model from path /tmp/tmpg5s6g0n0/model/ with prefix 5bcb5f39c75d42b1\n",
      "[INFO 2023-08-30T07:20:09.045794172+00:00 kernel.cc:1046] Use fast generic engine\n"
     ]
    },
    {
     "name": "stdout",
     "output_type": "stream",
     "text": [
      "i:85\n"
     ]
    },
    {
     "name": "stderr",
     "output_type": "stream",
     "text": [
      "[INFO 2023-08-30T07:20:10.539094945+00:00 kernel.cc:1214] Loading model from path /tmp/tmps7w774li/model/ with prefix 03a8b9e55be64977\n",
      "[INFO 2023-08-30T07:20:10.544995913+00:00 kernel.cc:1046] Use fast generic engine\n"
     ]
    },
    {
     "name": "stdout",
     "output_type": "stream",
     "text": [
      "i:86\n"
     ]
    },
    {
     "name": "stderr",
     "output_type": "stream",
     "text": [
      "[INFO 2023-08-30T07:20:11.823206012+00:00 kernel.cc:1214] Loading model from path /tmp/tmpykd02q4w/model/ with prefix c86f7b5c19ce4662\n",
      "[INFO 2023-08-30T07:20:11.838861885+00:00 abstract_model.cc:1311] Engine \"GradientBoostedTreesQuickScorerExtended\" built\n",
      "[INFO 2023-08-30T07:20:11.838915324+00:00 kernel.cc:1046] Use fast generic engine\n"
     ]
    },
    {
     "name": "stdout",
     "output_type": "stream",
     "text": [
      "i:87\n"
     ]
    },
    {
     "name": "stderr",
     "output_type": "stream",
     "text": [
      "[INFO 2023-08-30T07:20:13.62765052+00:00 kernel.cc:1214] Loading model from path /tmp/tmp3o8j14db/model/ with prefix 155867d7737a4e50\n",
      "[INFO 2023-08-30T07:20:13.644729446+00:00 kernel.cc:1046] Use fast generic engine\n"
     ]
    },
    {
     "name": "stdout",
     "output_type": "stream",
     "text": [
      "i:88\n"
     ]
    },
    {
     "name": "stderr",
     "output_type": "stream",
     "text": [
      "[INFO 2023-08-30T07:20:14.829038832+00:00 kernel.cc:1214] Loading model from path /tmp/tmpmang19ea/model/ with prefix 77603d9bc6ba4e12\n",
      "[INFO 2023-08-30T07:20:14.839600479+00:00 kernel.cc:1046] Use fast generic engine\n"
     ]
    },
    {
     "name": "stdout",
     "output_type": "stream",
     "text": [
      "i:89\n"
     ]
    },
    {
     "name": "stderr",
     "output_type": "stream",
     "text": [
      "[INFO 2023-08-30T07:20:15.89571035+00:00 kernel.cc:1214] Loading model from path /tmp/tmp4kkrbz9z/model/ with prefix 56569a57d9874117\n",
      "[INFO 2023-08-30T07:20:15.900196148+00:00 kernel.cc:1046] Use fast generic engine\n"
     ]
    },
    {
     "name": "stdout",
     "output_type": "stream",
     "text": [
      "i:90\n"
     ]
    },
    {
     "name": "stderr",
     "output_type": "stream",
     "text": [
      "[INFO 2023-08-30T07:20:17.058271861+00:00 kernel.cc:1214] Loading model from path /tmp/tmp8llhhhq_/model/ with prefix 08018faaaef44edb\n",
      "[INFO 2023-08-30T07:20:17.067960882+00:00 kernel.cc:1046] Use fast generic engine\n"
     ]
    },
    {
     "name": "stdout",
     "output_type": "stream",
     "text": [
      "i:91\n"
     ]
    },
    {
     "name": "stderr",
     "output_type": "stream",
     "text": [
      "[INFO 2023-08-30T07:20:18.10279553+00:00 kernel.cc:1214] Loading model from path /tmp/tmp7gxtp22i/model/ with prefix cfab6886ee844ebf\n",
      "[INFO 2023-08-30T07:20:18.109128045+00:00 kernel.cc:1046] Use fast generic engine\n"
     ]
    },
    {
     "name": "stdout",
     "output_type": "stream",
     "text": [
      "i:92\n"
     ]
    },
    {
     "name": "stderr",
     "output_type": "stream",
     "text": [
      "[INFO 2023-08-30T07:20:19.435182209+00:00 kernel.cc:1214] Loading model from path /tmp/tmp79x6ksqh/model/ with prefix a7ca1f1903344fd4\n",
      "[INFO 2023-08-30T07:20:19.456105587+00:00 kernel.cc:1046] Use fast generic engine\n"
     ]
    },
    {
     "name": "stdout",
     "output_type": "stream",
     "text": [
      "i:93\n"
     ]
    },
    {
     "name": "stderr",
     "output_type": "stream",
     "text": [
      "[INFO 2023-08-30T07:20:20.57951338+00:00 kernel.cc:1214] Loading model from path /tmp/tmpofbw4s58/model/ with prefix ce1fc3798ffd491d\n",
      "[INFO 2023-08-30T07:20:20.588923178+00:00 kernel.cc:1046] Use fast generic engine\n"
     ]
    },
    {
     "name": "stdout",
     "output_type": "stream",
     "text": [
      "i:94\n"
     ]
    },
    {
     "name": "stderr",
     "output_type": "stream",
     "text": [
      "[INFO 2023-08-30T07:20:21.61424762+00:00 kernel.cc:1214] Loading model from path /tmp/tmpvwzfi4ks/model/ with prefix 812c2695fa4c48e2\n",
      "[INFO 2023-08-30T07:20:21.62033943+00:00 kernel.cc:1046] Use fast generic engine\n"
     ]
    },
    {
     "name": "stdout",
     "output_type": "stream",
     "text": [
      "i:95\n"
     ]
    },
    {
     "name": "stderr",
     "output_type": "stream",
     "text": [
      "[INFO 2023-08-30T07:20:22.757940836+00:00 kernel.cc:1214] Loading model from path /tmp/tmplxhn94za/model/ with prefix b44a99380d504c67\n",
      "[INFO 2023-08-30T07:20:22.765723622+00:00 abstract_model.cc:1311] Engine \"GradientBoostedTreesQuickScorerExtended\" built\n",
      "[INFO 2023-08-30T07:20:22.765764746+00:00 kernel.cc:1046] Use fast generic engine\n"
     ]
    },
    {
     "name": "stdout",
     "output_type": "stream",
     "text": [
      "i:96\n"
     ]
    },
    {
     "name": "stderr",
     "output_type": "stream",
     "text": [
      "[INFO 2023-08-30T07:20:23.882896578+00:00 kernel.cc:1214] Loading model from path /tmp/tmp5kr6s2lp/model/ with prefix bd9905ce01294c0c\n",
      "[INFO 2023-08-30T07:20:23.89220873+00:00 kernel.cc:1046] Use fast generic engine\n"
     ]
    },
    {
     "name": "stdout",
     "output_type": "stream",
     "text": [
      "i:97\n"
     ]
    },
    {
     "name": "stderr",
     "output_type": "stream",
     "text": [
      "[INFO 2023-08-30T07:20:24.905254375+00:00 kernel.cc:1214] Loading model from path /tmp/tmpd0jtxppl/model/ with prefix 13e96929aaf7445b\n",
      "[INFO 2023-08-30T07:20:24.91018027+00:00 kernel.cc:1046] Use fast generic engine\n"
     ]
    },
    {
     "name": "stdout",
     "output_type": "stream",
     "text": [
      "i:98\n"
     ]
    },
    {
     "name": "stderr",
     "output_type": "stream",
     "text": [
      "[INFO 2023-08-30T07:20:25.976479498+00:00 kernel.cc:1214] Loading model from path /tmp/tmp349yssxl/model/ with prefix d88c9f0facb54626\n",
      "[INFO 2023-08-30T07:20:25.983713987+00:00 kernel.cc:1046] Use fast generic engine\n"
     ]
    },
    {
     "name": "stdout",
     "output_type": "stream",
     "text": [
      "i:99\n"
     ]
    },
    {
     "name": "stderr",
     "output_type": "stream",
     "text": [
      "[INFO 2023-08-30T07:20:27.214337407+00:00 kernel.cc:1214] Loading model from path /tmp/tmpqoowcibl/model/ with prefix 4e97719614d44aae\n",
      "[INFO 2023-08-30T07:20:27.227348256+00:00 kernel.cc:1046] Use fast generic engine\n"
     ]
    },
    {
     "name": "stdout",
     "output_type": "stream",
     "text": [
      "Submission exported to /kaggle/working/submission.csv\n"
     ]
    }
   ],
   "source": [
    "predictions = None\n",
    "num_predictions = 0\n",
    "\n",
    "for i in range(100):\n",
    "    print(f\"i:{i}\")\n",
    "    # Possible models: GradientBoostedTreesModel or RandomForestModel\n",
    "    model = tfdf.keras.GradientBoostedTreesModel(\n",
    "        verbose=0, # Very few logs\n",
    "        features=[tfdf.keras.FeatureUsage(name=n) for n in input_features],\n",
    "        exclude_non_specified_features=True, # Only use the features in \"features\"\n",
    "\n",
    "        #min_examples=1,\n",
    "        #categorical_algorithm=\"RANDOM\",\n",
    "        ##max_depth=4,\n",
    "        #shrinkage=0.05,\n",
    "        ##num_candidate_attributes_ratio=0.2,\n",
    "        #split_axis=\"SPARSE_OBLIQUE\",\n",
    "        #sparse_oblique_normalization=\"MIN_MAX\",\n",
    "        #sparse_oblique_num_projections_exponent=2.0,\n",
    "        #num_trees=2000,\n",
    "        ##validation_ratio=0.0,\n",
    "        random_seed=i,\n",
    "        honest=True,\n",
    "    )\n",
    "    model.fit(train_ds)\n",
    "    \n",
    "    sub_predictions = model.predict(serving_ds, verbose=0)[:,0]\n",
    "    if predictions is None:\n",
    "        predictions = sub_predictions\n",
    "    else:\n",
    "        predictions += sub_predictions\n",
    "    num_predictions += 1\n",
    "\n",
    "predictions/=num_predictions\n",
    "\n",
    "kaggle_predictions = pd.DataFrame({\n",
    "        \"PassengerId\": serving_df[\"PassengerId\"],\n",
    "        \"Survived\": (predictions >= 0.5).astype(int)\n",
    "    })\n",
    "\n",
    "make_submission(kaggle_predictions)"
   ]
  },
  {
   "cell_type": "markdown",
   "id": "ec9e51d1",
   "metadata": {
    "papermill": {
     "duration": 0.021198,
     "end_time": "2023-08-30T07:20:28.204454",
     "exception": false,
     "start_time": "2023-08-30T07:20:28.183256",
     "status": "completed"
    },
    "tags": []
   },
   "source": [
    "# What is next\n",
    "\n",
    "If you want to learn more about TensorFlow Decision Forests and its advanced features, you can follow the official documentation [here](https://www.tensorflow.org/decision_forests) "
   ]
  }
 ],
 "kernelspec": {
  "display_name": "Python 3",
  "language": "python",
  "name": "python3"
 },
 "language_info": {
  "codemirror_mode": {
   "name": "ipython",
   "version": 3
  },
  "file_extension": ".py",
  "mimetype": "text/x-python",
  "name": "python",
  "nbconvert_exporter": "python",
  "pygments_lexer": "ipython3",
  "version": "3.6.4"
 },
 "metadata": {
  "kernelspec": {
   "display_name": "Python 3",
   "language": "python",
   "name": "python3"
  },
  "language_info": {
   "codemirror_mode": {
    "name": "ipython",
    "version": 3
   },
   "file_extension": ".py",
   "mimetype": "text/x-python",
   "name": "python",
   "nbconvert_exporter": "python",
   "pygments_lexer": "ipython3",
   "version": "3.7.12"
  },
  "papermill": {
   "default_parameters": {},
   "duration": 278.216319,
   "end_time": "2023-08-30T07:20:31.268024",
   "environment_variables": {},
   "exception": null,
   "input_path": "__notebook__.ipynb",
   "output_path": "__notebook__.ipynb",
   "parameters": {},
   "start_time": "2023-08-30T07:15:53.051705",
   "version": "2.4.0"
  }
 },
 "nbformat": 4,
 "nbformat_minor": 5
}
